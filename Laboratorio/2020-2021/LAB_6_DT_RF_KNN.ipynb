{
  "nbformat": 4,
  "nbformat_minor": 0,
  "metadata": {
    "colab": {
      "name": "LAB_6_DT_RF_KNN",
      "provenance": []
    },
    "kernelspec": {
      "name": "python3",
      "display_name": "Python 3"
    },
    "widgets": {
      "application/vnd.jupyter.widget-state+json": {
        "b24cece7814542dfb88ff3449d802298": {
          "model_module": "@jupyter-widgets/controls",
          "model_name": "HBoxModel",
          "state": {
            "_view_name": "HBoxView",
            "_dom_classes": [],
            "_model_name": "HBoxModel",
            "_view_module": "@jupyter-widgets/controls",
            "_model_module_version": "1.5.0",
            "_view_count": null,
            "_view_module_version": "1.5.0",
            "box_style": "",
            "layout": "IPY_MODEL_4debb6f74d154642bcffa10413265b26",
            "_model_module": "@jupyter-widgets/controls",
            "children": [
              "IPY_MODEL_66df5d21df3d450298771d648981d671",
              "IPY_MODEL_3dc2640be47341c78e44393e19fc3c5f"
            ]
          }
        },
        "4debb6f74d154642bcffa10413265b26": {
          "model_module": "@jupyter-widgets/base",
          "model_name": "LayoutModel",
          "state": {
            "_view_name": "LayoutView",
            "grid_template_rows": null,
            "right": null,
            "justify_content": null,
            "_view_module": "@jupyter-widgets/base",
            "overflow": null,
            "_model_module_version": "1.2.0",
            "_view_count": null,
            "flex_flow": null,
            "width": null,
            "min_width": null,
            "border": null,
            "align_items": null,
            "bottom": null,
            "_model_module": "@jupyter-widgets/base",
            "top": null,
            "grid_column": null,
            "overflow_y": null,
            "overflow_x": null,
            "grid_auto_flow": null,
            "grid_area": null,
            "grid_template_columns": null,
            "flex": null,
            "_model_name": "LayoutModel",
            "justify_items": null,
            "grid_row": null,
            "max_height": null,
            "align_content": null,
            "visibility": null,
            "align_self": null,
            "height": null,
            "min_height": null,
            "padding": null,
            "grid_auto_rows": null,
            "grid_gap": null,
            "max_width": null,
            "order": null,
            "_view_module_version": "1.2.0",
            "grid_template_areas": null,
            "object_position": null,
            "object_fit": null,
            "grid_auto_columns": null,
            "margin": null,
            "display": null,
            "left": null
          }
        },
        "66df5d21df3d450298771d648981d671": {
          "model_module": "@jupyter-widgets/controls",
          "model_name": "IntProgressModel",
          "state": {
            "_view_name": "ProgressView",
            "style": "IPY_MODEL_1cbaad267e8249f083c7f37471d8c420",
            "_dom_classes": [],
            "description": "k = 1: 100%",
            "_model_name": "IntProgressModel",
            "bar_style": "success",
            "max": 5,
            "_view_module": "@jupyter-widgets/controls",
            "_model_module_version": "1.5.0",
            "value": 5,
            "_view_count": null,
            "_view_module_version": "1.5.0",
            "orientation": "horizontal",
            "min": 0,
            "description_tooltip": null,
            "_model_module": "@jupyter-widgets/controls",
            "layout": "IPY_MODEL_77e395b491be44c7939221b1f5c7fcd0"
          }
        },
        "3dc2640be47341c78e44393e19fc3c5f": {
          "model_module": "@jupyter-widgets/controls",
          "model_name": "HTMLModel",
          "state": {
            "_view_name": "HTMLView",
            "style": "IPY_MODEL_6e752c52a41948fe8863c11cd2c67c31",
            "_dom_classes": [],
            "description": "",
            "_model_name": "HTMLModel",
            "placeholder": "​",
            "_view_module": "@jupyter-widgets/controls",
            "_model_module_version": "1.5.0",
            "value": " 5/5 [00:45&lt;00:00,  9.01s/it]",
            "_view_count": null,
            "_view_module_version": "1.5.0",
            "description_tooltip": null,
            "_model_module": "@jupyter-widgets/controls",
            "layout": "IPY_MODEL_ce2860d13b2140868078f7eb503fadd9"
          }
        },
        "1cbaad267e8249f083c7f37471d8c420": {
          "model_module": "@jupyter-widgets/controls",
          "model_name": "ProgressStyleModel",
          "state": {
            "_view_name": "StyleView",
            "_model_name": "ProgressStyleModel",
            "description_width": "initial",
            "_view_module": "@jupyter-widgets/base",
            "_model_module_version": "1.5.0",
            "_view_count": null,
            "_view_module_version": "1.2.0",
            "bar_color": null,
            "_model_module": "@jupyter-widgets/controls"
          }
        },
        "77e395b491be44c7939221b1f5c7fcd0": {
          "model_module": "@jupyter-widgets/base",
          "model_name": "LayoutModel",
          "state": {
            "_view_name": "LayoutView",
            "grid_template_rows": null,
            "right": null,
            "justify_content": null,
            "_view_module": "@jupyter-widgets/base",
            "overflow": null,
            "_model_module_version": "1.2.0",
            "_view_count": null,
            "flex_flow": null,
            "width": null,
            "min_width": null,
            "border": null,
            "align_items": null,
            "bottom": null,
            "_model_module": "@jupyter-widgets/base",
            "top": null,
            "grid_column": null,
            "overflow_y": null,
            "overflow_x": null,
            "grid_auto_flow": null,
            "grid_area": null,
            "grid_template_columns": null,
            "flex": null,
            "_model_name": "LayoutModel",
            "justify_items": null,
            "grid_row": null,
            "max_height": null,
            "align_content": null,
            "visibility": null,
            "align_self": null,
            "height": null,
            "min_height": null,
            "padding": null,
            "grid_auto_rows": null,
            "grid_gap": null,
            "max_width": null,
            "order": null,
            "_view_module_version": "1.2.0",
            "grid_template_areas": null,
            "object_position": null,
            "object_fit": null,
            "grid_auto_columns": null,
            "margin": null,
            "display": null,
            "left": null
          }
        },
        "6e752c52a41948fe8863c11cd2c67c31": {
          "model_module": "@jupyter-widgets/controls",
          "model_name": "DescriptionStyleModel",
          "state": {
            "_view_name": "StyleView",
            "_model_name": "DescriptionStyleModel",
            "description_width": "",
            "_view_module": "@jupyter-widgets/base",
            "_model_module_version": "1.5.0",
            "_view_count": null,
            "_view_module_version": "1.2.0",
            "_model_module": "@jupyter-widgets/controls"
          }
        },
        "ce2860d13b2140868078f7eb503fadd9": {
          "model_module": "@jupyter-widgets/base",
          "model_name": "LayoutModel",
          "state": {
            "_view_name": "LayoutView",
            "grid_template_rows": null,
            "right": null,
            "justify_content": null,
            "_view_module": "@jupyter-widgets/base",
            "overflow": null,
            "_model_module_version": "1.2.0",
            "_view_count": null,
            "flex_flow": null,
            "width": null,
            "min_width": null,
            "border": null,
            "align_items": null,
            "bottom": null,
            "_model_module": "@jupyter-widgets/base",
            "top": null,
            "grid_column": null,
            "overflow_y": null,
            "overflow_x": null,
            "grid_auto_flow": null,
            "grid_area": null,
            "grid_template_columns": null,
            "flex": null,
            "_model_name": "LayoutModel",
            "justify_items": null,
            "grid_row": null,
            "max_height": null,
            "align_content": null,
            "visibility": null,
            "align_self": null,
            "height": null,
            "min_height": null,
            "padding": null,
            "grid_auto_rows": null,
            "grid_gap": null,
            "max_width": null,
            "order": null,
            "_view_module_version": "1.2.0",
            "grid_template_areas": null,
            "object_position": null,
            "object_fit": null,
            "grid_auto_columns": null,
            "margin": null,
            "display": null,
            "left": null
          }
        },
        "d7a956b82a6c47a6bce49feece7a7f1c": {
          "model_module": "@jupyter-widgets/controls",
          "model_name": "HBoxModel",
          "state": {
            "_view_name": "HBoxView",
            "_dom_classes": [],
            "_model_name": "HBoxModel",
            "_view_module": "@jupyter-widgets/controls",
            "_model_module_version": "1.5.0",
            "_view_count": null,
            "_view_module_version": "1.5.0",
            "box_style": "",
            "layout": "IPY_MODEL_90fe56940aea45ee908fd023ebd8a2b0",
            "_model_module": "@jupyter-widgets/controls",
            "children": [
              "IPY_MODEL_f4c72f00f1404b8fbd542385938cf576",
              "IPY_MODEL_097ef1ec229c4888bef858f56028ea7b"
            ]
          }
        },
        "90fe56940aea45ee908fd023ebd8a2b0": {
          "model_module": "@jupyter-widgets/base",
          "model_name": "LayoutModel",
          "state": {
            "_view_name": "LayoutView",
            "grid_template_rows": null,
            "right": null,
            "justify_content": null,
            "_view_module": "@jupyter-widgets/base",
            "overflow": null,
            "_model_module_version": "1.2.0",
            "_view_count": null,
            "flex_flow": null,
            "width": null,
            "min_width": null,
            "border": null,
            "align_items": null,
            "bottom": null,
            "_model_module": "@jupyter-widgets/base",
            "top": null,
            "grid_column": null,
            "overflow_y": null,
            "overflow_x": null,
            "grid_auto_flow": null,
            "grid_area": null,
            "grid_template_columns": null,
            "flex": null,
            "_model_name": "LayoutModel",
            "justify_items": null,
            "grid_row": null,
            "max_height": null,
            "align_content": null,
            "visibility": null,
            "align_self": null,
            "height": null,
            "min_height": null,
            "padding": null,
            "grid_auto_rows": null,
            "grid_gap": null,
            "max_width": null,
            "order": null,
            "_view_module_version": "1.2.0",
            "grid_template_areas": null,
            "object_position": null,
            "object_fit": null,
            "grid_auto_columns": null,
            "margin": null,
            "display": null,
            "left": null
          }
        },
        "f4c72f00f1404b8fbd542385938cf576": {
          "model_module": "@jupyter-widgets/controls",
          "model_name": "IntProgressModel",
          "state": {
            "_view_name": "ProgressView",
            "style": "IPY_MODEL_487790190a934eb592fc3f59908242ef",
            "_dom_classes": [],
            "description": "k = 2: 100%",
            "_model_name": "IntProgressModel",
            "bar_style": "success",
            "max": 5,
            "_view_module": "@jupyter-widgets/controls",
            "_model_module_version": "1.5.0",
            "value": 5,
            "_view_count": null,
            "_view_module_version": "1.5.0",
            "orientation": "horizontal",
            "min": 0,
            "description_tooltip": null,
            "_model_module": "@jupyter-widgets/controls",
            "layout": "IPY_MODEL_ac01216c58e349d2869d849f4f1d1e42"
          }
        },
        "097ef1ec229c4888bef858f56028ea7b": {
          "model_module": "@jupyter-widgets/controls",
          "model_name": "HTMLModel",
          "state": {
            "_view_name": "HTMLView",
            "style": "IPY_MODEL_d1324e26b8d3466fb030e169368691f5",
            "_dom_classes": [],
            "description": "",
            "_model_name": "HTMLModel",
            "placeholder": "​",
            "_view_module": "@jupyter-widgets/controls",
            "_model_module_version": "1.5.0",
            "value": " 5/5 [00:13&lt;00:00,  2.70s/it]",
            "_view_count": null,
            "_view_module_version": "1.5.0",
            "description_tooltip": null,
            "_model_module": "@jupyter-widgets/controls",
            "layout": "IPY_MODEL_d2ed589e984e442b86bd4714baceef32"
          }
        },
        "487790190a934eb592fc3f59908242ef": {
          "model_module": "@jupyter-widgets/controls",
          "model_name": "ProgressStyleModel",
          "state": {
            "_view_name": "StyleView",
            "_model_name": "ProgressStyleModel",
            "description_width": "initial",
            "_view_module": "@jupyter-widgets/base",
            "_model_module_version": "1.5.0",
            "_view_count": null,
            "_view_module_version": "1.2.0",
            "bar_color": null,
            "_model_module": "@jupyter-widgets/controls"
          }
        },
        "ac01216c58e349d2869d849f4f1d1e42": {
          "model_module": "@jupyter-widgets/base",
          "model_name": "LayoutModel",
          "state": {
            "_view_name": "LayoutView",
            "grid_template_rows": null,
            "right": null,
            "justify_content": null,
            "_view_module": "@jupyter-widgets/base",
            "overflow": null,
            "_model_module_version": "1.2.0",
            "_view_count": null,
            "flex_flow": null,
            "width": null,
            "min_width": null,
            "border": null,
            "align_items": null,
            "bottom": null,
            "_model_module": "@jupyter-widgets/base",
            "top": null,
            "grid_column": null,
            "overflow_y": null,
            "overflow_x": null,
            "grid_auto_flow": null,
            "grid_area": null,
            "grid_template_columns": null,
            "flex": null,
            "_model_name": "LayoutModel",
            "justify_items": null,
            "grid_row": null,
            "max_height": null,
            "align_content": null,
            "visibility": null,
            "align_self": null,
            "height": null,
            "min_height": null,
            "padding": null,
            "grid_auto_rows": null,
            "grid_gap": null,
            "max_width": null,
            "order": null,
            "_view_module_version": "1.2.0",
            "grid_template_areas": null,
            "object_position": null,
            "object_fit": null,
            "grid_auto_columns": null,
            "margin": null,
            "display": null,
            "left": null
          }
        },
        "d1324e26b8d3466fb030e169368691f5": {
          "model_module": "@jupyter-widgets/controls",
          "model_name": "DescriptionStyleModel",
          "state": {
            "_view_name": "StyleView",
            "_model_name": "DescriptionStyleModel",
            "description_width": "",
            "_view_module": "@jupyter-widgets/base",
            "_model_module_version": "1.5.0",
            "_view_count": null,
            "_view_module_version": "1.2.0",
            "_model_module": "@jupyter-widgets/controls"
          }
        },
        "d2ed589e984e442b86bd4714baceef32": {
          "model_module": "@jupyter-widgets/base",
          "model_name": "LayoutModel",
          "state": {
            "_view_name": "LayoutView",
            "grid_template_rows": null,
            "right": null,
            "justify_content": null,
            "_view_module": "@jupyter-widgets/base",
            "overflow": null,
            "_model_module_version": "1.2.0",
            "_view_count": null,
            "flex_flow": null,
            "width": null,
            "min_width": null,
            "border": null,
            "align_items": null,
            "bottom": null,
            "_model_module": "@jupyter-widgets/base",
            "top": null,
            "grid_column": null,
            "overflow_y": null,
            "overflow_x": null,
            "grid_auto_flow": null,
            "grid_area": null,
            "grid_template_columns": null,
            "flex": null,
            "_model_name": "LayoutModel",
            "justify_items": null,
            "grid_row": null,
            "max_height": null,
            "align_content": null,
            "visibility": null,
            "align_self": null,
            "height": null,
            "min_height": null,
            "padding": null,
            "grid_auto_rows": null,
            "grid_gap": null,
            "max_width": null,
            "order": null,
            "_view_module_version": "1.2.0",
            "grid_template_areas": null,
            "object_position": null,
            "object_fit": null,
            "grid_auto_columns": null,
            "margin": null,
            "display": null,
            "left": null
          }
        },
        "d2bc8983d6134032beb60b6563577623": {
          "model_module": "@jupyter-widgets/controls",
          "model_name": "HBoxModel",
          "state": {
            "_view_name": "HBoxView",
            "_dom_classes": [],
            "_model_name": "HBoxModel",
            "_view_module": "@jupyter-widgets/controls",
            "_model_module_version": "1.5.0",
            "_view_count": null,
            "_view_module_version": "1.5.0",
            "box_style": "",
            "layout": "IPY_MODEL_7fdc13188e3d4bbea561e015612832a1",
            "_model_module": "@jupyter-widgets/controls",
            "children": [
              "IPY_MODEL_24a05b23e74e46ceb75bed9f14697cd8",
              "IPY_MODEL_7903f71ffd314c4e8bfa27ea6a8c8ce1"
            ]
          }
        },
        "7fdc13188e3d4bbea561e015612832a1": {
          "model_module": "@jupyter-widgets/base",
          "model_name": "LayoutModel",
          "state": {
            "_view_name": "LayoutView",
            "grid_template_rows": null,
            "right": null,
            "justify_content": null,
            "_view_module": "@jupyter-widgets/base",
            "overflow": null,
            "_model_module_version": "1.2.0",
            "_view_count": null,
            "flex_flow": null,
            "width": null,
            "min_width": null,
            "border": null,
            "align_items": null,
            "bottom": null,
            "_model_module": "@jupyter-widgets/base",
            "top": null,
            "grid_column": null,
            "overflow_y": null,
            "overflow_x": null,
            "grid_auto_flow": null,
            "grid_area": null,
            "grid_template_columns": null,
            "flex": null,
            "_model_name": "LayoutModel",
            "justify_items": null,
            "grid_row": null,
            "max_height": null,
            "align_content": null,
            "visibility": null,
            "align_self": null,
            "height": null,
            "min_height": null,
            "padding": null,
            "grid_auto_rows": null,
            "grid_gap": null,
            "max_width": null,
            "order": null,
            "_view_module_version": "1.2.0",
            "grid_template_areas": null,
            "object_position": null,
            "object_fit": null,
            "grid_auto_columns": null,
            "margin": null,
            "display": null,
            "left": null
          }
        },
        "24a05b23e74e46ceb75bed9f14697cd8": {
          "model_module": "@jupyter-widgets/controls",
          "model_name": "IntProgressModel",
          "state": {
            "_view_name": "ProgressView",
            "style": "IPY_MODEL_3620738ccfbe46aaaad6ff6b1f1705b7",
            "_dom_classes": [],
            "description": "k = 3: 100%",
            "_model_name": "IntProgressModel",
            "bar_style": "success",
            "max": 5,
            "_view_module": "@jupyter-widgets/controls",
            "_model_module_version": "1.5.0",
            "value": 5,
            "_view_count": null,
            "_view_module_version": "1.5.0",
            "orientation": "horizontal",
            "min": 0,
            "description_tooltip": null,
            "_model_module": "@jupyter-widgets/controls",
            "layout": "IPY_MODEL_6a2867c5d3a647a2b592da1366871fd0"
          }
        },
        "7903f71ffd314c4e8bfa27ea6a8c8ce1": {
          "model_module": "@jupyter-widgets/controls",
          "model_name": "HTMLModel",
          "state": {
            "_view_name": "HTMLView",
            "style": "IPY_MODEL_d500a49cfa8f49c0a6acd19e0db9ba41",
            "_dom_classes": [],
            "description": "",
            "_model_name": "HTMLModel",
            "placeholder": "​",
            "_view_module": "@jupyter-widgets/controls",
            "_model_module_version": "1.5.0",
            "value": " 5/5 [00:09&lt;00:00,  1.80s/it]",
            "_view_count": null,
            "_view_module_version": "1.5.0",
            "description_tooltip": null,
            "_model_module": "@jupyter-widgets/controls",
            "layout": "IPY_MODEL_0ee728bfccf74aa5a80c8a3a4f1521b2"
          }
        },
        "3620738ccfbe46aaaad6ff6b1f1705b7": {
          "model_module": "@jupyter-widgets/controls",
          "model_name": "ProgressStyleModel",
          "state": {
            "_view_name": "StyleView",
            "_model_name": "ProgressStyleModel",
            "description_width": "initial",
            "_view_module": "@jupyter-widgets/base",
            "_model_module_version": "1.5.0",
            "_view_count": null,
            "_view_module_version": "1.2.0",
            "bar_color": null,
            "_model_module": "@jupyter-widgets/controls"
          }
        },
        "6a2867c5d3a647a2b592da1366871fd0": {
          "model_module": "@jupyter-widgets/base",
          "model_name": "LayoutModel",
          "state": {
            "_view_name": "LayoutView",
            "grid_template_rows": null,
            "right": null,
            "justify_content": null,
            "_view_module": "@jupyter-widgets/base",
            "overflow": null,
            "_model_module_version": "1.2.0",
            "_view_count": null,
            "flex_flow": null,
            "width": null,
            "min_width": null,
            "border": null,
            "align_items": null,
            "bottom": null,
            "_model_module": "@jupyter-widgets/base",
            "top": null,
            "grid_column": null,
            "overflow_y": null,
            "overflow_x": null,
            "grid_auto_flow": null,
            "grid_area": null,
            "grid_template_columns": null,
            "flex": null,
            "_model_name": "LayoutModel",
            "justify_items": null,
            "grid_row": null,
            "max_height": null,
            "align_content": null,
            "visibility": null,
            "align_self": null,
            "height": null,
            "min_height": null,
            "padding": null,
            "grid_auto_rows": null,
            "grid_gap": null,
            "max_width": null,
            "order": null,
            "_view_module_version": "1.2.0",
            "grid_template_areas": null,
            "object_position": null,
            "object_fit": null,
            "grid_auto_columns": null,
            "margin": null,
            "display": null,
            "left": null
          }
        },
        "d500a49cfa8f49c0a6acd19e0db9ba41": {
          "model_module": "@jupyter-widgets/controls",
          "model_name": "DescriptionStyleModel",
          "state": {
            "_view_name": "StyleView",
            "_model_name": "DescriptionStyleModel",
            "description_width": "",
            "_view_module": "@jupyter-widgets/base",
            "_model_module_version": "1.5.0",
            "_view_count": null,
            "_view_module_version": "1.2.0",
            "_model_module": "@jupyter-widgets/controls"
          }
        },
        "0ee728bfccf74aa5a80c8a3a4f1521b2": {
          "model_module": "@jupyter-widgets/base",
          "model_name": "LayoutModel",
          "state": {
            "_view_name": "LayoutView",
            "grid_template_rows": null,
            "right": null,
            "justify_content": null,
            "_view_module": "@jupyter-widgets/base",
            "overflow": null,
            "_model_module_version": "1.2.0",
            "_view_count": null,
            "flex_flow": null,
            "width": null,
            "min_width": null,
            "border": null,
            "align_items": null,
            "bottom": null,
            "_model_module": "@jupyter-widgets/base",
            "top": null,
            "grid_column": null,
            "overflow_y": null,
            "overflow_x": null,
            "grid_auto_flow": null,
            "grid_area": null,
            "grid_template_columns": null,
            "flex": null,
            "_model_name": "LayoutModel",
            "justify_items": null,
            "grid_row": null,
            "max_height": null,
            "align_content": null,
            "visibility": null,
            "align_self": null,
            "height": null,
            "min_height": null,
            "padding": null,
            "grid_auto_rows": null,
            "grid_gap": null,
            "max_width": null,
            "order": null,
            "_view_module_version": "1.2.0",
            "grid_template_areas": null,
            "object_position": null,
            "object_fit": null,
            "grid_auto_columns": null,
            "margin": null,
            "display": null,
            "left": null
          }
        },
        "07b6f04dfa7b478e83a76cf6e08a0f83": {
          "model_module": "@jupyter-widgets/controls",
          "model_name": "HBoxModel",
          "state": {
            "_view_name": "HBoxView",
            "_dom_classes": [],
            "_model_name": "HBoxModel",
            "_view_module": "@jupyter-widgets/controls",
            "_model_module_version": "1.5.0",
            "_view_count": null,
            "_view_module_version": "1.5.0",
            "box_style": "",
            "layout": "IPY_MODEL_f121e985471e47f1bdb253e6980a2790",
            "_model_module": "@jupyter-widgets/controls",
            "children": [
              "IPY_MODEL_eeca15956873452e83253e48af56b966",
              "IPY_MODEL_242b68c9cbea4c9fbc4b373b07f65804"
            ]
          }
        },
        "f121e985471e47f1bdb253e6980a2790": {
          "model_module": "@jupyter-widgets/base",
          "model_name": "LayoutModel",
          "state": {
            "_view_name": "LayoutView",
            "grid_template_rows": null,
            "right": null,
            "justify_content": null,
            "_view_module": "@jupyter-widgets/base",
            "overflow": null,
            "_model_module_version": "1.2.0",
            "_view_count": null,
            "flex_flow": null,
            "width": null,
            "min_width": null,
            "border": null,
            "align_items": null,
            "bottom": null,
            "_model_module": "@jupyter-widgets/base",
            "top": null,
            "grid_column": null,
            "overflow_y": null,
            "overflow_x": null,
            "grid_auto_flow": null,
            "grid_area": null,
            "grid_template_columns": null,
            "flex": null,
            "_model_name": "LayoutModel",
            "justify_items": null,
            "grid_row": null,
            "max_height": null,
            "align_content": null,
            "visibility": null,
            "align_self": null,
            "height": null,
            "min_height": null,
            "padding": null,
            "grid_auto_rows": null,
            "grid_gap": null,
            "max_width": null,
            "order": null,
            "_view_module_version": "1.2.0",
            "grid_template_areas": null,
            "object_position": null,
            "object_fit": null,
            "grid_auto_columns": null,
            "margin": null,
            "display": null,
            "left": null
          }
        },
        "eeca15956873452e83253e48af56b966": {
          "model_module": "@jupyter-widgets/controls",
          "model_name": "IntProgressModel",
          "state": {
            "_view_name": "ProgressView",
            "style": "IPY_MODEL_b2511a64f63244a99e9963db82cf34d2",
            "_dom_classes": [],
            "description": "k = 4: 100%",
            "_model_name": "IntProgressModel",
            "bar_style": "success",
            "max": 5,
            "_view_module": "@jupyter-widgets/controls",
            "_model_module_version": "1.5.0",
            "value": 5,
            "_view_count": null,
            "_view_module_version": "1.5.0",
            "orientation": "horizontal",
            "min": 0,
            "description_tooltip": null,
            "_model_module": "@jupyter-widgets/controls",
            "layout": "IPY_MODEL_0866d9e30a8b441e9930fdb97d0681c4"
          }
        },
        "242b68c9cbea4c9fbc4b373b07f65804": {
          "model_module": "@jupyter-widgets/controls",
          "model_name": "HTMLModel",
          "state": {
            "_view_name": "HTMLView",
            "style": "IPY_MODEL_45f07c665339457091654a204461c6c2",
            "_dom_classes": [],
            "description": "",
            "_model_name": "HTMLModel",
            "placeholder": "​",
            "_view_module": "@jupyter-widgets/controls",
            "_model_module_version": "1.5.0",
            "value": " 5/5 [00:04&lt;00:00,  1.10it/s]",
            "_view_count": null,
            "_view_module_version": "1.5.0",
            "description_tooltip": null,
            "_model_module": "@jupyter-widgets/controls",
            "layout": "IPY_MODEL_dca2281968e843509c3f49c06e4fe9ce"
          }
        },
        "b2511a64f63244a99e9963db82cf34d2": {
          "model_module": "@jupyter-widgets/controls",
          "model_name": "ProgressStyleModel",
          "state": {
            "_view_name": "StyleView",
            "_model_name": "ProgressStyleModel",
            "description_width": "initial",
            "_view_module": "@jupyter-widgets/base",
            "_model_module_version": "1.5.0",
            "_view_count": null,
            "_view_module_version": "1.2.0",
            "bar_color": null,
            "_model_module": "@jupyter-widgets/controls"
          }
        },
        "0866d9e30a8b441e9930fdb97d0681c4": {
          "model_module": "@jupyter-widgets/base",
          "model_name": "LayoutModel",
          "state": {
            "_view_name": "LayoutView",
            "grid_template_rows": null,
            "right": null,
            "justify_content": null,
            "_view_module": "@jupyter-widgets/base",
            "overflow": null,
            "_model_module_version": "1.2.0",
            "_view_count": null,
            "flex_flow": null,
            "width": null,
            "min_width": null,
            "border": null,
            "align_items": null,
            "bottom": null,
            "_model_module": "@jupyter-widgets/base",
            "top": null,
            "grid_column": null,
            "overflow_y": null,
            "overflow_x": null,
            "grid_auto_flow": null,
            "grid_area": null,
            "grid_template_columns": null,
            "flex": null,
            "_model_name": "LayoutModel",
            "justify_items": null,
            "grid_row": null,
            "max_height": null,
            "align_content": null,
            "visibility": null,
            "align_self": null,
            "height": null,
            "min_height": null,
            "padding": null,
            "grid_auto_rows": null,
            "grid_gap": null,
            "max_width": null,
            "order": null,
            "_view_module_version": "1.2.0",
            "grid_template_areas": null,
            "object_position": null,
            "object_fit": null,
            "grid_auto_columns": null,
            "margin": null,
            "display": null,
            "left": null
          }
        },
        "45f07c665339457091654a204461c6c2": {
          "model_module": "@jupyter-widgets/controls",
          "model_name": "DescriptionStyleModel",
          "state": {
            "_view_name": "StyleView",
            "_model_name": "DescriptionStyleModel",
            "description_width": "",
            "_view_module": "@jupyter-widgets/base",
            "_model_module_version": "1.5.0",
            "_view_count": null,
            "_view_module_version": "1.2.0",
            "_model_module": "@jupyter-widgets/controls"
          }
        },
        "dca2281968e843509c3f49c06e4fe9ce": {
          "model_module": "@jupyter-widgets/base",
          "model_name": "LayoutModel",
          "state": {
            "_view_name": "LayoutView",
            "grid_template_rows": null,
            "right": null,
            "justify_content": null,
            "_view_module": "@jupyter-widgets/base",
            "overflow": null,
            "_model_module_version": "1.2.0",
            "_view_count": null,
            "flex_flow": null,
            "width": null,
            "min_width": null,
            "border": null,
            "align_items": null,
            "bottom": null,
            "_model_module": "@jupyter-widgets/base",
            "top": null,
            "grid_column": null,
            "overflow_y": null,
            "overflow_x": null,
            "grid_auto_flow": null,
            "grid_area": null,
            "grid_template_columns": null,
            "flex": null,
            "_model_name": "LayoutModel",
            "justify_items": null,
            "grid_row": null,
            "max_height": null,
            "align_content": null,
            "visibility": null,
            "align_self": null,
            "height": null,
            "min_height": null,
            "padding": null,
            "grid_auto_rows": null,
            "grid_gap": null,
            "max_width": null,
            "order": null,
            "_view_module_version": "1.2.0",
            "grid_template_areas": null,
            "object_position": null,
            "object_fit": null,
            "grid_auto_columns": null,
            "margin": null,
            "display": null,
            "left": null
          }
        },
        "0de3eaa3c2944da5b06aabca70877aed": {
          "model_module": "@jupyter-widgets/controls",
          "model_name": "HBoxModel",
          "state": {
            "_view_name": "HBoxView",
            "_dom_classes": [],
            "_model_name": "HBoxModel",
            "_view_module": "@jupyter-widgets/controls",
            "_model_module_version": "1.5.0",
            "_view_count": null,
            "_view_module_version": "1.5.0",
            "box_style": "",
            "layout": "IPY_MODEL_457ebac61b1c4736a99b6a7d3ee820c6",
            "_model_module": "@jupyter-widgets/controls",
            "children": [
              "IPY_MODEL_6dd547ce93a248ff951e437a0ee2b8a5",
              "IPY_MODEL_ecc80f00ede141e1af249c14d876bea7"
            ]
          }
        },
        "457ebac61b1c4736a99b6a7d3ee820c6": {
          "model_module": "@jupyter-widgets/base",
          "model_name": "LayoutModel",
          "state": {
            "_view_name": "LayoutView",
            "grid_template_rows": null,
            "right": null,
            "justify_content": null,
            "_view_module": "@jupyter-widgets/base",
            "overflow": null,
            "_model_module_version": "1.2.0",
            "_view_count": null,
            "flex_flow": null,
            "width": null,
            "min_width": null,
            "border": null,
            "align_items": null,
            "bottom": null,
            "_model_module": "@jupyter-widgets/base",
            "top": null,
            "grid_column": null,
            "overflow_y": null,
            "overflow_x": null,
            "grid_auto_flow": null,
            "grid_area": null,
            "grid_template_columns": null,
            "flex": null,
            "_model_name": "LayoutModel",
            "justify_items": null,
            "grid_row": null,
            "max_height": null,
            "align_content": null,
            "visibility": null,
            "align_self": null,
            "height": null,
            "min_height": null,
            "padding": null,
            "grid_auto_rows": null,
            "grid_gap": null,
            "max_width": null,
            "order": null,
            "_view_module_version": "1.2.0",
            "grid_template_areas": null,
            "object_position": null,
            "object_fit": null,
            "grid_auto_columns": null,
            "margin": null,
            "display": null,
            "left": null
          }
        },
        "6dd547ce93a248ff951e437a0ee2b8a5": {
          "model_module": "@jupyter-widgets/controls",
          "model_name": "IntProgressModel",
          "state": {
            "_view_name": "ProgressView",
            "style": "IPY_MODEL_8c303dcf30074ef99daf9d9040296c11",
            "_dom_classes": [],
            "description": "k = 5: 100%",
            "_model_name": "IntProgressModel",
            "bar_style": "success",
            "max": 5,
            "_view_module": "@jupyter-widgets/controls",
            "_model_module_version": "1.5.0",
            "value": 5,
            "_view_count": null,
            "_view_module_version": "1.5.0",
            "orientation": "horizontal",
            "min": 0,
            "description_tooltip": null,
            "_model_module": "@jupyter-widgets/controls",
            "layout": "IPY_MODEL_c81ece11dd7240be8da6d81aaee15cba"
          }
        },
        "ecc80f00ede141e1af249c14d876bea7": {
          "model_module": "@jupyter-widgets/controls",
          "model_name": "HTMLModel",
          "state": {
            "_view_name": "HTMLView",
            "style": "IPY_MODEL_b1d7415e881b4b079b9fc03931895454",
            "_dom_classes": [],
            "description": "",
            "_model_name": "HTMLModel",
            "placeholder": "​",
            "_view_module": "@jupyter-widgets/controls",
            "_model_module_version": "1.5.0",
            "value": " 5/5 [00:27&lt;00:00,  5.42s/it]",
            "_view_count": null,
            "_view_module_version": "1.5.0",
            "description_tooltip": null,
            "_model_module": "@jupyter-widgets/controls",
            "layout": "IPY_MODEL_ec0721bd99fd4c67b8549d46f12ed292"
          }
        },
        "8c303dcf30074ef99daf9d9040296c11": {
          "model_module": "@jupyter-widgets/controls",
          "model_name": "ProgressStyleModel",
          "state": {
            "_view_name": "StyleView",
            "_model_name": "ProgressStyleModel",
            "description_width": "initial",
            "_view_module": "@jupyter-widgets/base",
            "_model_module_version": "1.5.0",
            "_view_count": null,
            "_view_module_version": "1.2.0",
            "bar_color": null,
            "_model_module": "@jupyter-widgets/controls"
          }
        },
        "c81ece11dd7240be8da6d81aaee15cba": {
          "model_module": "@jupyter-widgets/base",
          "model_name": "LayoutModel",
          "state": {
            "_view_name": "LayoutView",
            "grid_template_rows": null,
            "right": null,
            "justify_content": null,
            "_view_module": "@jupyter-widgets/base",
            "overflow": null,
            "_model_module_version": "1.2.0",
            "_view_count": null,
            "flex_flow": null,
            "width": null,
            "min_width": null,
            "border": null,
            "align_items": null,
            "bottom": null,
            "_model_module": "@jupyter-widgets/base",
            "top": null,
            "grid_column": null,
            "overflow_y": null,
            "overflow_x": null,
            "grid_auto_flow": null,
            "grid_area": null,
            "grid_template_columns": null,
            "flex": null,
            "_model_name": "LayoutModel",
            "justify_items": null,
            "grid_row": null,
            "max_height": null,
            "align_content": null,
            "visibility": null,
            "align_self": null,
            "height": null,
            "min_height": null,
            "padding": null,
            "grid_auto_rows": null,
            "grid_gap": null,
            "max_width": null,
            "order": null,
            "_view_module_version": "1.2.0",
            "grid_template_areas": null,
            "object_position": null,
            "object_fit": null,
            "grid_auto_columns": null,
            "margin": null,
            "display": null,
            "left": null
          }
        },
        "b1d7415e881b4b079b9fc03931895454": {
          "model_module": "@jupyter-widgets/controls",
          "model_name": "DescriptionStyleModel",
          "state": {
            "_view_name": "StyleView",
            "_model_name": "DescriptionStyleModel",
            "description_width": "",
            "_view_module": "@jupyter-widgets/base",
            "_model_module_version": "1.5.0",
            "_view_count": null,
            "_view_module_version": "1.2.0",
            "_model_module": "@jupyter-widgets/controls"
          }
        },
        "ec0721bd99fd4c67b8549d46f12ed292": {
          "model_module": "@jupyter-widgets/base",
          "model_name": "LayoutModel",
          "state": {
            "_view_name": "LayoutView",
            "grid_template_rows": null,
            "right": null,
            "justify_content": null,
            "_view_module": "@jupyter-widgets/base",
            "overflow": null,
            "_model_module_version": "1.2.0",
            "_view_count": null,
            "flex_flow": null,
            "width": null,
            "min_width": null,
            "border": null,
            "align_items": null,
            "bottom": null,
            "_model_module": "@jupyter-widgets/base",
            "top": null,
            "grid_column": null,
            "overflow_y": null,
            "overflow_x": null,
            "grid_auto_flow": null,
            "grid_area": null,
            "grid_template_columns": null,
            "flex": null,
            "_model_name": "LayoutModel",
            "justify_items": null,
            "grid_row": null,
            "max_height": null,
            "align_content": null,
            "visibility": null,
            "align_self": null,
            "height": null,
            "min_height": null,
            "padding": null,
            "grid_auto_rows": null,
            "grid_gap": null,
            "max_width": null,
            "order": null,
            "_view_module_version": "1.2.0",
            "grid_template_areas": null,
            "object_position": null,
            "object_fit": null,
            "grid_auto_columns": null,
            "margin": null,
            "display": null,
            "left": null
          }
        },
        "5a05f69575184db99ee8a3e7bd495d8c": {
          "model_module": "@jupyter-widgets/controls",
          "model_name": "HBoxModel",
          "state": {
            "_view_name": "HBoxView",
            "_dom_classes": [],
            "_model_name": "HBoxModel",
            "_view_module": "@jupyter-widgets/controls",
            "_model_module_version": "1.5.0",
            "_view_count": null,
            "_view_module_version": "1.5.0",
            "box_style": "",
            "layout": "IPY_MODEL_4901cb1b22734f71980fa0623218afa6",
            "_model_module": "@jupyter-widgets/controls",
            "children": [
              "IPY_MODEL_06be1ce0cd2f4cfba9fad6952910eb26",
              "IPY_MODEL_e996d88714ed4c97b8b0cfa2e2f35252"
            ]
          }
        },
        "4901cb1b22734f71980fa0623218afa6": {
          "model_module": "@jupyter-widgets/base",
          "model_name": "LayoutModel",
          "state": {
            "_view_name": "LayoutView",
            "grid_template_rows": null,
            "right": null,
            "justify_content": null,
            "_view_module": "@jupyter-widgets/base",
            "overflow": null,
            "_model_module_version": "1.2.0",
            "_view_count": null,
            "flex_flow": null,
            "width": null,
            "min_width": null,
            "border": null,
            "align_items": null,
            "bottom": null,
            "_model_module": "@jupyter-widgets/base",
            "top": null,
            "grid_column": null,
            "overflow_y": null,
            "overflow_x": null,
            "grid_auto_flow": null,
            "grid_area": null,
            "grid_template_columns": null,
            "flex": null,
            "_model_name": "LayoutModel",
            "justify_items": null,
            "grid_row": null,
            "max_height": null,
            "align_content": null,
            "visibility": null,
            "align_self": null,
            "height": null,
            "min_height": null,
            "padding": null,
            "grid_auto_rows": null,
            "grid_gap": null,
            "max_width": null,
            "order": null,
            "_view_module_version": "1.2.0",
            "grid_template_areas": null,
            "object_position": null,
            "object_fit": null,
            "grid_auto_columns": null,
            "margin": null,
            "display": null,
            "left": null
          }
        },
        "06be1ce0cd2f4cfba9fad6952910eb26": {
          "model_module": "@jupyter-widgets/controls",
          "model_name": "IntProgressModel",
          "state": {
            "_view_name": "ProgressView",
            "style": "IPY_MODEL_5dcc58e58fa84ef7a2ccb53a8d3d7e10",
            "_dom_classes": [],
            "description": "k = 6: 100%",
            "_model_name": "IntProgressModel",
            "bar_style": "success",
            "max": 5,
            "_view_module": "@jupyter-widgets/controls",
            "_model_module_version": "1.5.0",
            "value": 5,
            "_view_count": null,
            "_view_module_version": "1.5.0",
            "orientation": "horizontal",
            "min": 0,
            "description_tooltip": null,
            "_model_module": "@jupyter-widgets/controls",
            "layout": "IPY_MODEL_3eea1166f834490a89aba5ff98164b7b"
          }
        },
        "e996d88714ed4c97b8b0cfa2e2f35252": {
          "model_module": "@jupyter-widgets/controls",
          "model_name": "HTMLModel",
          "state": {
            "_view_name": "HTMLView",
            "style": "IPY_MODEL_32eb723e72404c61bc19aec8bafac0b1",
            "_dom_classes": [],
            "description": "",
            "_model_name": "HTMLModel",
            "placeholder": "​",
            "_view_module": "@jupyter-widgets/controls",
            "_model_module_version": "1.5.0",
            "value": " 5/5 [00:13&lt;00:00,  2.70s/it]",
            "_view_count": null,
            "_view_module_version": "1.5.0",
            "description_tooltip": null,
            "_model_module": "@jupyter-widgets/controls",
            "layout": "IPY_MODEL_00881faf53be40cdbb2a353612c7bcaf"
          }
        },
        "5dcc58e58fa84ef7a2ccb53a8d3d7e10": {
          "model_module": "@jupyter-widgets/controls",
          "model_name": "ProgressStyleModel",
          "state": {
            "_view_name": "StyleView",
            "_model_name": "ProgressStyleModel",
            "description_width": "initial",
            "_view_module": "@jupyter-widgets/base",
            "_model_module_version": "1.5.0",
            "_view_count": null,
            "_view_module_version": "1.2.0",
            "bar_color": null,
            "_model_module": "@jupyter-widgets/controls"
          }
        },
        "3eea1166f834490a89aba5ff98164b7b": {
          "model_module": "@jupyter-widgets/base",
          "model_name": "LayoutModel",
          "state": {
            "_view_name": "LayoutView",
            "grid_template_rows": null,
            "right": null,
            "justify_content": null,
            "_view_module": "@jupyter-widgets/base",
            "overflow": null,
            "_model_module_version": "1.2.0",
            "_view_count": null,
            "flex_flow": null,
            "width": null,
            "min_width": null,
            "border": null,
            "align_items": null,
            "bottom": null,
            "_model_module": "@jupyter-widgets/base",
            "top": null,
            "grid_column": null,
            "overflow_y": null,
            "overflow_x": null,
            "grid_auto_flow": null,
            "grid_area": null,
            "grid_template_columns": null,
            "flex": null,
            "_model_name": "LayoutModel",
            "justify_items": null,
            "grid_row": null,
            "max_height": null,
            "align_content": null,
            "visibility": null,
            "align_self": null,
            "height": null,
            "min_height": null,
            "padding": null,
            "grid_auto_rows": null,
            "grid_gap": null,
            "max_width": null,
            "order": null,
            "_view_module_version": "1.2.0",
            "grid_template_areas": null,
            "object_position": null,
            "object_fit": null,
            "grid_auto_columns": null,
            "margin": null,
            "display": null,
            "left": null
          }
        },
        "32eb723e72404c61bc19aec8bafac0b1": {
          "model_module": "@jupyter-widgets/controls",
          "model_name": "DescriptionStyleModel",
          "state": {
            "_view_name": "StyleView",
            "_model_name": "DescriptionStyleModel",
            "description_width": "",
            "_view_module": "@jupyter-widgets/base",
            "_model_module_version": "1.5.0",
            "_view_count": null,
            "_view_module_version": "1.2.0",
            "_model_module": "@jupyter-widgets/controls"
          }
        },
        "00881faf53be40cdbb2a353612c7bcaf": {
          "model_module": "@jupyter-widgets/base",
          "model_name": "LayoutModel",
          "state": {
            "_view_name": "LayoutView",
            "grid_template_rows": null,
            "right": null,
            "justify_content": null,
            "_view_module": "@jupyter-widgets/base",
            "overflow": null,
            "_model_module_version": "1.2.0",
            "_view_count": null,
            "flex_flow": null,
            "width": null,
            "min_width": null,
            "border": null,
            "align_items": null,
            "bottom": null,
            "_model_module": "@jupyter-widgets/base",
            "top": null,
            "grid_column": null,
            "overflow_y": null,
            "overflow_x": null,
            "grid_auto_flow": null,
            "grid_area": null,
            "grid_template_columns": null,
            "flex": null,
            "_model_name": "LayoutModel",
            "justify_items": null,
            "grid_row": null,
            "max_height": null,
            "align_content": null,
            "visibility": null,
            "align_self": null,
            "height": null,
            "min_height": null,
            "padding": null,
            "grid_auto_rows": null,
            "grid_gap": null,
            "max_width": null,
            "order": null,
            "_view_module_version": "1.2.0",
            "grid_template_areas": null,
            "object_position": null,
            "object_fit": null,
            "grid_auto_columns": null,
            "margin": null,
            "display": null,
            "left": null
          }
        },
        "8a18fdd75443417b9b01708c62444eac": {
          "model_module": "@jupyter-widgets/controls",
          "model_name": "HBoxModel",
          "state": {
            "_view_name": "HBoxView",
            "_dom_classes": [],
            "_model_name": "HBoxModel",
            "_view_module": "@jupyter-widgets/controls",
            "_model_module_version": "1.5.0",
            "_view_count": null,
            "_view_module_version": "1.5.0",
            "box_style": "",
            "layout": "IPY_MODEL_7bda69626adc4146b98b29141d55b91c",
            "_model_module": "@jupyter-widgets/controls",
            "children": [
              "IPY_MODEL_f0736a06bea74842bf1cc85300bbc0db",
              "IPY_MODEL_d6491c877eae4b65b32f577df6493683"
            ]
          }
        },
        "7bda69626adc4146b98b29141d55b91c": {
          "model_module": "@jupyter-widgets/base",
          "model_name": "LayoutModel",
          "state": {
            "_view_name": "LayoutView",
            "grid_template_rows": null,
            "right": null,
            "justify_content": null,
            "_view_module": "@jupyter-widgets/base",
            "overflow": null,
            "_model_module_version": "1.2.0",
            "_view_count": null,
            "flex_flow": null,
            "width": null,
            "min_width": null,
            "border": null,
            "align_items": null,
            "bottom": null,
            "_model_module": "@jupyter-widgets/base",
            "top": null,
            "grid_column": null,
            "overflow_y": null,
            "overflow_x": null,
            "grid_auto_flow": null,
            "grid_area": null,
            "grid_template_columns": null,
            "flex": null,
            "_model_name": "LayoutModel",
            "justify_items": null,
            "grid_row": null,
            "max_height": null,
            "align_content": null,
            "visibility": null,
            "align_self": null,
            "height": null,
            "min_height": null,
            "padding": null,
            "grid_auto_rows": null,
            "grid_gap": null,
            "max_width": null,
            "order": null,
            "_view_module_version": "1.2.0",
            "grid_template_areas": null,
            "object_position": null,
            "object_fit": null,
            "grid_auto_columns": null,
            "margin": null,
            "display": null,
            "left": null
          }
        },
        "f0736a06bea74842bf1cc85300bbc0db": {
          "model_module": "@jupyter-widgets/controls",
          "model_name": "IntProgressModel",
          "state": {
            "_view_name": "ProgressView",
            "style": "IPY_MODEL_aab6cee92520447fb47bb4b01db5b850",
            "_dom_classes": [],
            "description": "k = 7: 100%",
            "_model_name": "IntProgressModel",
            "bar_style": "success",
            "max": 5,
            "_view_module": "@jupyter-widgets/controls",
            "_model_module_version": "1.5.0",
            "value": 5,
            "_view_count": null,
            "_view_module_version": "1.5.0",
            "orientation": "horizontal",
            "min": 0,
            "description_tooltip": null,
            "_model_module": "@jupyter-widgets/controls",
            "layout": "IPY_MODEL_f1b044677e774432bf488a4d443ddb82"
          }
        },
        "d6491c877eae4b65b32f577df6493683": {
          "model_module": "@jupyter-widgets/controls",
          "model_name": "HTMLModel",
          "state": {
            "_view_name": "HTMLView",
            "style": "IPY_MODEL_3111bc12c12b4b81bbe6836bfc5c4f56",
            "_dom_classes": [],
            "description": "",
            "_model_name": "HTMLModel",
            "placeholder": "​",
            "_view_module": "@jupyter-widgets/controls",
            "_model_module_version": "1.5.0",
            "value": " 5/5 [00:09&lt;00:00,  1.80s/it]",
            "_view_count": null,
            "_view_module_version": "1.5.0",
            "description_tooltip": null,
            "_model_module": "@jupyter-widgets/controls",
            "layout": "IPY_MODEL_2bf1f902aec14152b3ba5d579c1a4674"
          }
        },
        "aab6cee92520447fb47bb4b01db5b850": {
          "model_module": "@jupyter-widgets/controls",
          "model_name": "ProgressStyleModel",
          "state": {
            "_view_name": "StyleView",
            "_model_name": "ProgressStyleModel",
            "description_width": "initial",
            "_view_module": "@jupyter-widgets/base",
            "_model_module_version": "1.5.0",
            "_view_count": null,
            "_view_module_version": "1.2.0",
            "bar_color": null,
            "_model_module": "@jupyter-widgets/controls"
          }
        },
        "f1b044677e774432bf488a4d443ddb82": {
          "model_module": "@jupyter-widgets/base",
          "model_name": "LayoutModel",
          "state": {
            "_view_name": "LayoutView",
            "grid_template_rows": null,
            "right": null,
            "justify_content": null,
            "_view_module": "@jupyter-widgets/base",
            "overflow": null,
            "_model_module_version": "1.2.0",
            "_view_count": null,
            "flex_flow": null,
            "width": null,
            "min_width": null,
            "border": null,
            "align_items": null,
            "bottom": null,
            "_model_module": "@jupyter-widgets/base",
            "top": null,
            "grid_column": null,
            "overflow_y": null,
            "overflow_x": null,
            "grid_auto_flow": null,
            "grid_area": null,
            "grid_template_columns": null,
            "flex": null,
            "_model_name": "LayoutModel",
            "justify_items": null,
            "grid_row": null,
            "max_height": null,
            "align_content": null,
            "visibility": null,
            "align_self": null,
            "height": null,
            "min_height": null,
            "padding": null,
            "grid_auto_rows": null,
            "grid_gap": null,
            "max_width": null,
            "order": null,
            "_view_module_version": "1.2.0",
            "grid_template_areas": null,
            "object_position": null,
            "object_fit": null,
            "grid_auto_columns": null,
            "margin": null,
            "display": null,
            "left": null
          }
        },
        "3111bc12c12b4b81bbe6836bfc5c4f56": {
          "model_module": "@jupyter-widgets/controls",
          "model_name": "DescriptionStyleModel",
          "state": {
            "_view_name": "StyleView",
            "_model_name": "DescriptionStyleModel",
            "description_width": "",
            "_view_module": "@jupyter-widgets/base",
            "_model_module_version": "1.5.0",
            "_view_count": null,
            "_view_module_version": "1.2.0",
            "_model_module": "@jupyter-widgets/controls"
          }
        },
        "2bf1f902aec14152b3ba5d579c1a4674": {
          "model_module": "@jupyter-widgets/base",
          "model_name": "LayoutModel",
          "state": {
            "_view_name": "LayoutView",
            "grid_template_rows": null,
            "right": null,
            "justify_content": null,
            "_view_module": "@jupyter-widgets/base",
            "overflow": null,
            "_model_module_version": "1.2.0",
            "_view_count": null,
            "flex_flow": null,
            "width": null,
            "min_width": null,
            "border": null,
            "align_items": null,
            "bottom": null,
            "_model_module": "@jupyter-widgets/base",
            "top": null,
            "grid_column": null,
            "overflow_y": null,
            "overflow_x": null,
            "grid_auto_flow": null,
            "grid_area": null,
            "grid_template_columns": null,
            "flex": null,
            "_model_name": "LayoutModel",
            "justify_items": null,
            "grid_row": null,
            "max_height": null,
            "align_content": null,
            "visibility": null,
            "align_self": null,
            "height": null,
            "min_height": null,
            "padding": null,
            "grid_auto_rows": null,
            "grid_gap": null,
            "max_width": null,
            "order": null,
            "_view_module_version": "1.2.0",
            "grid_template_areas": null,
            "object_position": null,
            "object_fit": null,
            "grid_auto_columns": null,
            "margin": null,
            "display": null,
            "left": null
          }
        },
        "0b6969a006c748ec8354a16de2ed7700": {
          "model_module": "@jupyter-widgets/controls",
          "model_name": "HBoxModel",
          "state": {
            "_view_name": "HBoxView",
            "_dom_classes": [],
            "_model_name": "HBoxModel",
            "_view_module": "@jupyter-widgets/controls",
            "_model_module_version": "1.5.0",
            "_view_count": null,
            "_view_module_version": "1.5.0",
            "box_style": "",
            "layout": "IPY_MODEL_84e30c3255024937bf940be45e596965",
            "_model_module": "@jupyter-widgets/controls",
            "children": [
              "IPY_MODEL_8cec3f45e2a64bc6b2498c4bb1fae159",
              "IPY_MODEL_c6a83f9c575847e485b6efea71f5424e"
            ]
          }
        },
        "84e30c3255024937bf940be45e596965": {
          "model_module": "@jupyter-widgets/base",
          "model_name": "LayoutModel",
          "state": {
            "_view_name": "LayoutView",
            "grid_template_rows": null,
            "right": null,
            "justify_content": null,
            "_view_module": "@jupyter-widgets/base",
            "overflow": null,
            "_model_module_version": "1.2.0",
            "_view_count": null,
            "flex_flow": null,
            "width": null,
            "min_width": null,
            "border": null,
            "align_items": null,
            "bottom": null,
            "_model_module": "@jupyter-widgets/base",
            "top": null,
            "grid_column": null,
            "overflow_y": null,
            "overflow_x": null,
            "grid_auto_flow": null,
            "grid_area": null,
            "grid_template_columns": null,
            "flex": null,
            "_model_name": "LayoutModel",
            "justify_items": null,
            "grid_row": null,
            "max_height": null,
            "align_content": null,
            "visibility": null,
            "align_self": null,
            "height": null,
            "min_height": null,
            "padding": null,
            "grid_auto_rows": null,
            "grid_gap": null,
            "max_width": null,
            "order": null,
            "_view_module_version": "1.2.0",
            "grid_template_areas": null,
            "object_position": null,
            "object_fit": null,
            "grid_auto_columns": null,
            "margin": null,
            "display": null,
            "left": null
          }
        },
        "8cec3f45e2a64bc6b2498c4bb1fae159": {
          "model_module": "@jupyter-widgets/controls",
          "model_name": "IntProgressModel",
          "state": {
            "_view_name": "ProgressView",
            "style": "IPY_MODEL_2841d259e0c94c80b3779a1ec19f89cc",
            "_dom_classes": [],
            "description": "k = 8: 100%",
            "_model_name": "IntProgressModel",
            "bar_style": "success",
            "max": 5,
            "_view_module": "@jupyter-widgets/controls",
            "_model_module_version": "1.5.0",
            "value": 5,
            "_view_count": null,
            "_view_module_version": "1.5.0",
            "orientation": "horizontal",
            "min": 0,
            "description_tooltip": null,
            "_model_module": "@jupyter-widgets/controls",
            "layout": "IPY_MODEL_3a978973aa39426697f6525c0d5ab8d7"
          }
        },
        "c6a83f9c575847e485b6efea71f5424e": {
          "model_module": "@jupyter-widgets/controls",
          "model_name": "HTMLModel",
          "state": {
            "_view_name": "HTMLView",
            "style": "IPY_MODEL_d0bbee392ae44dc4b8cacf3baafbd779",
            "_dom_classes": [],
            "description": "",
            "_model_name": "HTMLModel",
            "placeholder": "​",
            "_view_module": "@jupyter-widgets/controls",
            "_model_module_version": "1.5.0",
            "value": " 5/5 [00:04&lt;00:00,  1.11it/s]",
            "_view_count": null,
            "_view_module_version": "1.5.0",
            "description_tooltip": null,
            "_model_module": "@jupyter-widgets/controls",
            "layout": "IPY_MODEL_ae6d5a192ef5458184575d11f50728e3"
          }
        },
        "2841d259e0c94c80b3779a1ec19f89cc": {
          "model_module": "@jupyter-widgets/controls",
          "model_name": "ProgressStyleModel",
          "state": {
            "_view_name": "StyleView",
            "_model_name": "ProgressStyleModel",
            "description_width": "initial",
            "_view_module": "@jupyter-widgets/base",
            "_model_module_version": "1.5.0",
            "_view_count": null,
            "_view_module_version": "1.2.0",
            "bar_color": null,
            "_model_module": "@jupyter-widgets/controls"
          }
        },
        "3a978973aa39426697f6525c0d5ab8d7": {
          "model_module": "@jupyter-widgets/base",
          "model_name": "LayoutModel",
          "state": {
            "_view_name": "LayoutView",
            "grid_template_rows": null,
            "right": null,
            "justify_content": null,
            "_view_module": "@jupyter-widgets/base",
            "overflow": null,
            "_model_module_version": "1.2.0",
            "_view_count": null,
            "flex_flow": null,
            "width": null,
            "min_width": null,
            "border": null,
            "align_items": null,
            "bottom": null,
            "_model_module": "@jupyter-widgets/base",
            "top": null,
            "grid_column": null,
            "overflow_y": null,
            "overflow_x": null,
            "grid_auto_flow": null,
            "grid_area": null,
            "grid_template_columns": null,
            "flex": null,
            "_model_name": "LayoutModel",
            "justify_items": null,
            "grid_row": null,
            "max_height": null,
            "align_content": null,
            "visibility": null,
            "align_self": null,
            "height": null,
            "min_height": null,
            "padding": null,
            "grid_auto_rows": null,
            "grid_gap": null,
            "max_width": null,
            "order": null,
            "_view_module_version": "1.2.0",
            "grid_template_areas": null,
            "object_position": null,
            "object_fit": null,
            "grid_auto_columns": null,
            "margin": null,
            "display": null,
            "left": null
          }
        },
        "d0bbee392ae44dc4b8cacf3baafbd779": {
          "model_module": "@jupyter-widgets/controls",
          "model_name": "DescriptionStyleModel",
          "state": {
            "_view_name": "StyleView",
            "_model_name": "DescriptionStyleModel",
            "description_width": "",
            "_view_module": "@jupyter-widgets/base",
            "_model_module_version": "1.5.0",
            "_view_count": null,
            "_view_module_version": "1.2.0",
            "_model_module": "@jupyter-widgets/controls"
          }
        },
        "ae6d5a192ef5458184575d11f50728e3": {
          "model_module": "@jupyter-widgets/base",
          "model_name": "LayoutModel",
          "state": {
            "_view_name": "LayoutView",
            "grid_template_rows": null,
            "right": null,
            "justify_content": null,
            "_view_module": "@jupyter-widgets/base",
            "overflow": null,
            "_model_module_version": "1.2.0",
            "_view_count": null,
            "flex_flow": null,
            "width": null,
            "min_width": null,
            "border": null,
            "align_items": null,
            "bottom": null,
            "_model_module": "@jupyter-widgets/base",
            "top": null,
            "grid_column": null,
            "overflow_y": null,
            "overflow_x": null,
            "grid_auto_flow": null,
            "grid_area": null,
            "grid_template_columns": null,
            "flex": null,
            "_model_name": "LayoutModel",
            "justify_items": null,
            "grid_row": null,
            "max_height": null,
            "align_content": null,
            "visibility": null,
            "align_self": null,
            "height": null,
            "min_height": null,
            "padding": null,
            "grid_auto_rows": null,
            "grid_gap": null,
            "max_width": null,
            "order": null,
            "_view_module_version": "1.2.0",
            "grid_template_areas": null,
            "object_position": null,
            "object_fit": null,
            "grid_auto_columns": null,
            "margin": null,
            "display": null,
            "left": null
          }
        },
        "f73c1da526f44968b8fb9b8b734478ee": {
          "model_module": "@jupyter-widgets/controls",
          "model_name": "HBoxModel",
          "state": {
            "_view_name": "HBoxView",
            "_dom_classes": [],
            "_model_name": "HBoxModel",
            "_view_module": "@jupyter-widgets/controls",
            "_model_module_version": "1.5.0",
            "_view_count": null,
            "_view_module_version": "1.5.0",
            "box_style": "",
            "layout": "IPY_MODEL_32903c1bfe6e4ea89027081f858f017d",
            "_model_module": "@jupyter-widgets/controls",
            "children": [
              "IPY_MODEL_18b22e571b6446519568376a2d983bfc",
              "IPY_MODEL_078b3e8e0e6d400980df81ee57685302"
            ]
          }
        },
        "32903c1bfe6e4ea89027081f858f017d": {
          "model_module": "@jupyter-widgets/base",
          "model_name": "LayoutModel",
          "state": {
            "_view_name": "LayoutView",
            "grid_template_rows": null,
            "right": null,
            "justify_content": null,
            "_view_module": "@jupyter-widgets/base",
            "overflow": null,
            "_model_module_version": "1.2.0",
            "_view_count": null,
            "flex_flow": null,
            "width": null,
            "min_width": null,
            "border": null,
            "align_items": null,
            "bottom": null,
            "_model_module": "@jupyter-widgets/base",
            "top": null,
            "grid_column": null,
            "overflow_y": null,
            "overflow_x": null,
            "grid_auto_flow": null,
            "grid_area": null,
            "grid_template_columns": null,
            "flex": null,
            "_model_name": "LayoutModel",
            "justify_items": null,
            "grid_row": null,
            "max_height": null,
            "align_content": null,
            "visibility": null,
            "align_self": null,
            "height": null,
            "min_height": null,
            "padding": null,
            "grid_auto_rows": null,
            "grid_gap": null,
            "max_width": null,
            "order": null,
            "_view_module_version": "1.2.0",
            "grid_template_areas": null,
            "object_position": null,
            "object_fit": null,
            "grid_auto_columns": null,
            "margin": null,
            "display": null,
            "left": null
          }
        },
        "18b22e571b6446519568376a2d983bfc": {
          "model_module": "@jupyter-widgets/controls",
          "model_name": "IntProgressModel",
          "state": {
            "_view_name": "ProgressView",
            "style": "IPY_MODEL_79bb0e8fed1c4a4182b2bd441edf7077",
            "_dom_classes": [],
            "description": "k = 9: 100%",
            "_model_name": "IntProgressModel",
            "bar_style": "success",
            "max": 5,
            "_view_module": "@jupyter-widgets/controls",
            "_model_module_version": "1.5.0",
            "value": 5,
            "_view_count": null,
            "_view_module_version": "1.5.0",
            "orientation": "horizontal",
            "min": 0,
            "description_tooltip": null,
            "_model_module": "@jupyter-widgets/controls",
            "layout": "IPY_MODEL_30de8ff7e6694288aad872867c850fae"
          }
        },
        "078b3e8e0e6d400980df81ee57685302": {
          "model_module": "@jupyter-widgets/controls",
          "model_name": "HTMLModel",
          "state": {
            "_view_name": "HTMLView",
            "style": "IPY_MODEL_406eed4bf9d04ef590b26255944c5bf9",
            "_dom_classes": [],
            "description": "",
            "_model_name": "HTMLModel",
            "placeholder": "​",
            "_view_module": "@jupyter-widgets/controls",
            "_model_module_version": "1.5.0",
            "value": " 5/5 [00:09&lt;00:00,  1.83s/it]",
            "_view_count": null,
            "_view_module_version": "1.5.0",
            "description_tooltip": null,
            "_model_module": "@jupyter-widgets/controls",
            "layout": "IPY_MODEL_ef61b2a18122404d866e2888c82ec3c7"
          }
        },
        "79bb0e8fed1c4a4182b2bd441edf7077": {
          "model_module": "@jupyter-widgets/controls",
          "model_name": "ProgressStyleModel",
          "state": {
            "_view_name": "StyleView",
            "_model_name": "ProgressStyleModel",
            "description_width": "initial",
            "_view_module": "@jupyter-widgets/base",
            "_model_module_version": "1.5.0",
            "_view_count": null,
            "_view_module_version": "1.2.0",
            "bar_color": null,
            "_model_module": "@jupyter-widgets/controls"
          }
        },
        "30de8ff7e6694288aad872867c850fae": {
          "model_module": "@jupyter-widgets/base",
          "model_name": "LayoutModel",
          "state": {
            "_view_name": "LayoutView",
            "grid_template_rows": null,
            "right": null,
            "justify_content": null,
            "_view_module": "@jupyter-widgets/base",
            "overflow": null,
            "_model_module_version": "1.2.0",
            "_view_count": null,
            "flex_flow": null,
            "width": null,
            "min_width": null,
            "border": null,
            "align_items": null,
            "bottom": null,
            "_model_module": "@jupyter-widgets/base",
            "top": null,
            "grid_column": null,
            "overflow_y": null,
            "overflow_x": null,
            "grid_auto_flow": null,
            "grid_area": null,
            "grid_template_columns": null,
            "flex": null,
            "_model_name": "LayoutModel",
            "justify_items": null,
            "grid_row": null,
            "max_height": null,
            "align_content": null,
            "visibility": null,
            "align_self": null,
            "height": null,
            "min_height": null,
            "padding": null,
            "grid_auto_rows": null,
            "grid_gap": null,
            "max_width": null,
            "order": null,
            "_view_module_version": "1.2.0",
            "grid_template_areas": null,
            "object_position": null,
            "object_fit": null,
            "grid_auto_columns": null,
            "margin": null,
            "display": null,
            "left": null
          }
        },
        "406eed4bf9d04ef590b26255944c5bf9": {
          "model_module": "@jupyter-widgets/controls",
          "model_name": "DescriptionStyleModel",
          "state": {
            "_view_name": "StyleView",
            "_model_name": "DescriptionStyleModel",
            "description_width": "",
            "_view_module": "@jupyter-widgets/base",
            "_model_module_version": "1.5.0",
            "_view_count": null,
            "_view_module_version": "1.2.0",
            "_model_module": "@jupyter-widgets/controls"
          }
        },
        "ef61b2a18122404d866e2888c82ec3c7": {
          "model_module": "@jupyter-widgets/base",
          "model_name": "LayoutModel",
          "state": {
            "_view_name": "LayoutView",
            "grid_template_rows": null,
            "right": null,
            "justify_content": null,
            "_view_module": "@jupyter-widgets/base",
            "overflow": null,
            "_model_module_version": "1.2.0",
            "_view_count": null,
            "flex_flow": null,
            "width": null,
            "min_width": null,
            "border": null,
            "align_items": null,
            "bottom": null,
            "_model_module": "@jupyter-widgets/base",
            "top": null,
            "grid_column": null,
            "overflow_y": null,
            "overflow_x": null,
            "grid_auto_flow": null,
            "grid_area": null,
            "grid_template_columns": null,
            "flex": null,
            "_model_name": "LayoutModel",
            "justify_items": null,
            "grid_row": null,
            "max_height": null,
            "align_content": null,
            "visibility": null,
            "align_self": null,
            "height": null,
            "min_height": null,
            "padding": null,
            "grid_auto_rows": null,
            "grid_gap": null,
            "max_width": null,
            "order": null,
            "_view_module_version": "1.2.0",
            "grid_template_areas": null,
            "object_position": null,
            "object_fit": null,
            "grid_auto_columns": null,
            "margin": null,
            "display": null,
            "left": null
          }
        },
        "b64168f3983942cf9eda3fb6985cca36": {
          "model_module": "@jupyter-widgets/controls",
          "model_name": "HBoxModel",
          "state": {
            "_view_name": "HBoxView",
            "_dom_classes": [],
            "_model_name": "HBoxModel",
            "_view_module": "@jupyter-widgets/controls",
            "_model_module_version": "1.5.0",
            "_view_count": null,
            "_view_module_version": "1.5.0",
            "box_style": "",
            "layout": "IPY_MODEL_c0693e2100004a3aaf95b8b8613b353a",
            "_model_module": "@jupyter-widgets/controls",
            "children": [
              "IPY_MODEL_2f1b0d0e0f694b6d8beaa3337b6643ec",
              "IPY_MODEL_fa004c0325834c6b8fbe0f43952ad5fd"
            ]
          }
        },
        "c0693e2100004a3aaf95b8b8613b353a": {
          "model_module": "@jupyter-widgets/base",
          "model_name": "LayoutModel",
          "state": {
            "_view_name": "LayoutView",
            "grid_template_rows": null,
            "right": null,
            "justify_content": null,
            "_view_module": "@jupyter-widgets/base",
            "overflow": null,
            "_model_module_version": "1.2.0",
            "_view_count": null,
            "flex_flow": null,
            "width": null,
            "min_width": null,
            "border": null,
            "align_items": null,
            "bottom": null,
            "_model_module": "@jupyter-widgets/base",
            "top": null,
            "grid_column": null,
            "overflow_y": null,
            "overflow_x": null,
            "grid_auto_flow": null,
            "grid_area": null,
            "grid_template_columns": null,
            "flex": null,
            "_model_name": "LayoutModel",
            "justify_items": null,
            "grid_row": null,
            "max_height": null,
            "align_content": null,
            "visibility": null,
            "align_self": null,
            "height": null,
            "min_height": null,
            "padding": null,
            "grid_auto_rows": null,
            "grid_gap": null,
            "max_width": null,
            "order": null,
            "_view_module_version": "1.2.0",
            "grid_template_areas": null,
            "object_position": null,
            "object_fit": null,
            "grid_auto_columns": null,
            "margin": null,
            "display": null,
            "left": null
          }
        },
        "2f1b0d0e0f694b6d8beaa3337b6643ec": {
          "model_module": "@jupyter-widgets/controls",
          "model_name": "IntProgressModel",
          "state": {
            "_view_name": "ProgressView",
            "style": "IPY_MODEL_dc81dd6db98542dda7ea8ed8c2ed9a7d",
            "_dom_classes": [],
            "description": "k = 10: 100%",
            "_model_name": "IntProgressModel",
            "bar_style": "success",
            "max": 5,
            "_view_module": "@jupyter-widgets/controls",
            "_model_module_version": "1.5.0",
            "value": 5,
            "_view_count": null,
            "_view_module_version": "1.5.0",
            "orientation": "horizontal",
            "min": 0,
            "description_tooltip": null,
            "_model_module": "@jupyter-widgets/controls",
            "layout": "IPY_MODEL_f172943ea37545dd8bf01549c0cd2076"
          }
        },
        "fa004c0325834c6b8fbe0f43952ad5fd": {
          "model_module": "@jupyter-widgets/controls",
          "model_name": "HTMLModel",
          "state": {
            "_view_name": "HTMLView",
            "style": "IPY_MODEL_17b87e489eaf45079e3a36f016c0f5f3",
            "_dom_classes": [],
            "description": "",
            "_model_name": "HTMLModel",
            "placeholder": "​",
            "_view_module": "@jupyter-widgets/controls",
            "_model_module_version": "1.5.0",
            "value": " 5/5 [00:04&lt;00:00,  1.11it/s]",
            "_view_count": null,
            "_view_module_version": "1.5.0",
            "description_tooltip": null,
            "_model_module": "@jupyter-widgets/controls",
            "layout": "IPY_MODEL_bceff6f14bb8463bbedbfda29d14e7c9"
          }
        },
        "dc81dd6db98542dda7ea8ed8c2ed9a7d": {
          "model_module": "@jupyter-widgets/controls",
          "model_name": "ProgressStyleModel",
          "state": {
            "_view_name": "StyleView",
            "_model_name": "ProgressStyleModel",
            "description_width": "initial",
            "_view_module": "@jupyter-widgets/base",
            "_model_module_version": "1.5.0",
            "_view_count": null,
            "_view_module_version": "1.2.0",
            "bar_color": null,
            "_model_module": "@jupyter-widgets/controls"
          }
        },
        "f172943ea37545dd8bf01549c0cd2076": {
          "model_module": "@jupyter-widgets/base",
          "model_name": "LayoutModel",
          "state": {
            "_view_name": "LayoutView",
            "grid_template_rows": null,
            "right": null,
            "justify_content": null,
            "_view_module": "@jupyter-widgets/base",
            "overflow": null,
            "_model_module_version": "1.2.0",
            "_view_count": null,
            "flex_flow": null,
            "width": null,
            "min_width": null,
            "border": null,
            "align_items": null,
            "bottom": null,
            "_model_module": "@jupyter-widgets/base",
            "top": null,
            "grid_column": null,
            "overflow_y": null,
            "overflow_x": null,
            "grid_auto_flow": null,
            "grid_area": null,
            "grid_template_columns": null,
            "flex": null,
            "_model_name": "LayoutModel",
            "justify_items": null,
            "grid_row": null,
            "max_height": null,
            "align_content": null,
            "visibility": null,
            "align_self": null,
            "height": null,
            "min_height": null,
            "padding": null,
            "grid_auto_rows": null,
            "grid_gap": null,
            "max_width": null,
            "order": null,
            "_view_module_version": "1.2.0",
            "grid_template_areas": null,
            "object_position": null,
            "object_fit": null,
            "grid_auto_columns": null,
            "margin": null,
            "display": null,
            "left": null
          }
        },
        "17b87e489eaf45079e3a36f016c0f5f3": {
          "model_module": "@jupyter-widgets/controls",
          "model_name": "DescriptionStyleModel",
          "state": {
            "_view_name": "StyleView",
            "_model_name": "DescriptionStyleModel",
            "description_width": "",
            "_view_module": "@jupyter-widgets/base",
            "_model_module_version": "1.5.0",
            "_view_count": null,
            "_view_module_version": "1.2.0",
            "_model_module": "@jupyter-widgets/controls"
          }
        },
        "bceff6f14bb8463bbedbfda29d14e7c9": {
          "model_module": "@jupyter-widgets/base",
          "model_name": "LayoutModel",
          "state": {
            "_view_name": "LayoutView",
            "grid_template_rows": null,
            "right": null,
            "justify_content": null,
            "_view_module": "@jupyter-widgets/base",
            "overflow": null,
            "_model_module_version": "1.2.0",
            "_view_count": null,
            "flex_flow": null,
            "width": null,
            "min_width": null,
            "border": null,
            "align_items": null,
            "bottom": null,
            "_model_module": "@jupyter-widgets/base",
            "top": null,
            "grid_column": null,
            "overflow_y": null,
            "overflow_x": null,
            "grid_auto_flow": null,
            "grid_area": null,
            "grid_template_columns": null,
            "flex": null,
            "_model_name": "LayoutModel",
            "justify_items": null,
            "grid_row": null,
            "max_height": null,
            "align_content": null,
            "visibility": null,
            "align_self": null,
            "height": null,
            "min_height": null,
            "padding": null,
            "grid_auto_rows": null,
            "grid_gap": null,
            "max_width": null,
            "order": null,
            "_view_module_version": "1.2.0",
            "grid_template_areas": null,
            "object_position": null,
            "object_fit": null,
            "grid_auto_columns": null,
            "margin": null,
            "display": null,
            "left": null
          }
        }
      }
    }
  },
  "cells": [
    {
      "cell_type": "markdown",
      "metadata": {
        "id": "Tg-VegT_D9tL"
      },
      "source": [
        "# Lab 6 - Decision Trees, Random forest, k-Nearest Neighbors & k-Fold Cross Validation\n"
      ]
    },
    {
      "cell_type": "code",
      "metadata": {
        "id": "9nJhMKTRQuhD"
      },
      "source": [
        "########################################\n",
        "# Imports\n",
        "########################################\n",
        "\n",
        "import numpy as np\n",
        "import matplotlib.pyplot as plt\n",
        "from sklearn.datasets import fetch_openml as get_dataset\n",
        "from mpl_toolkits.axes_grid1 import make_axes_locatable\n",
        "from scipy import stats\n",
        "from tqdm import tqdm_notebook\n",
        "\n",
        "plt.style.use('seaborn')"
      ],
      "execution_count": null,
      "outputs": []
    },
    {
      "cell_type": "markdown",
      "metadata": {
        "id": "d73sb8mOBrO6"
      },
      "source": [
        "# MNIST dataset\n",
        "\n",
        "In this lab we will use the handwritten digits dataset, a collection of $28x28$ grayscale images containing the digits from $0$ to $9$. We will implement **$k$-Nearest Neighbors** (k-NN) for classifing new unseen images of digits. In particular we will see how to implement **$5$-Fold Cross-Validation** for finding the best parameter $k$ of the k-NN algorithm. Let's start!\n",
        "\n",
        "\n",
        "The first step is to load the dataset, that in this case is already contained in the *sklearn* package. Once loaded we have to implement the **$5$-Fold Cross-Validation**. \n"
      ]
    },
    {
      "cell_type": "code",
      "metadata": {
        "colab": {
          "base_uri": "https://localhost:8080/",
          "height": 845
        },
        "id": "tNk3jO-vTVPb",
        "outputId": "ebddc177-ad70-479e-a097-d0efbeb7af58"
      },
      "source": [
        "########################################\n",
        "# Dataset\n",
        "########################################\n",
        "\n",
        "# Load the dataset\n",
        "x, y = get_dataset('mnist_784', version=1, return_X_y=True)\n",
        "\n",
        "# Function for splitting the dataset\n",
        "def split_data(x, y, train_ratio=0.8, seed=None):\n",
        "    idx_samples = np.arange(len(x), dtype=np.int32)\n",
        "    if seed is not None:\n",
        "        np.random.seed(seed)\n",
        "\n",
        "    ### HERE YOUR CODE ###\n",
        "\n",
        "    # Shuffle the idx samples\n",
        "\n",
        "    # compute the train set size\n",
        "    train_size = \n",
        "\n",
        "    # Split the idx into train and validation idx\n",
        "    idx_train, idx_valid = \n",
        "    ### END CODE ###\n",
        "\n",
        "    return x[idx_train], y[idx_train], x[idx_valid], y[idx_valid]\n",
        "\n",
        "# Let's work with a subset of the dataset, only for reducing time execution\n",
        "x, y = x[:2000], y[:2000]\n",
        "\n",
        "# Split data into train and test sets\n",
        "x_train, y_train, x_test, y_test = split_data(x, y, train_ratio=0.8, \n",
        "                                                seed=1234)\n",
        "\n",
        "# Process the dataset\n",
        "x_train, x_test = x_train / 255, x_test / 255 # input in range [0, 1]\n",
        "y_train, y_test = y_train.astype(np.int32), y_test.astype(np.int32)\n",
        "\n",
        "# Print summary of the dataset\n",
        "print('################################################################################')\n",
        "print('# SUMMARY')\n",
        "print('################################################################################\\n')\n",
        "print('Train set size:', x_train.shape[0])\n",
        "print('Test set size:', x_test.shape[0])\n",
        "print('Number of pixels per image:', x_train.shape[1], '= 28x28')\n",
        "print()\n",
        "\n",
        "# Plot some samples of the dataset\n",
        "print('################################################################################')\n",
        "print('# SHOW SAMPLES')\n",
        "print('################################################################################\\n')\n",
        "plt.figure(figsize=(10, 10))\n",
        "for i in range(25):\n",
        "    plt.subplot(5, 5, i + 1)\n",
        "    plt.title(f'Label: {y_train[i]}', fontweight='bold')\n",
        "    plt.imshow(x_train[i].reshape(-1, 28), cmap='gray')\n",
        "    plt.axis('off')\n",
        "plt.show()"
      ],
      "execution_count": null,
      "outputs": [
        {
          "output_type": "stream",
          "text": [
            "################################################################################\n",
            "# SUMMARY\n",
            "################################################################################\n",
            "\n",
            "Train set size: 1600\n",
            "Test set size: 400\n",
            "Number of pixels per image: 784 = 28x28\n",
            "\n",
            "################################################################################\n",
            "# SHOW SAMPLES\n",
            "################################################################################\n",
            "\n"
          ],
          "name": "stdout"
        },
        {
          "output_type": "display_data",
          "data": {
            "image/png": "[encoded data removed]",
            "text/plain": [
              "<Figure size 720x720 with 25 Axes>"
            ]
          },
          "metadata": {
            "tags": [],
            "needs_background": "light"
          }
        }
      ]
    },
    {
      "cell_type": "markdown",
      "metadata": {
        "id": "00rIZ2BQTztz"
      },
      "source": [
        "## Motivating Random Forests: Decision Trees"
      ]
    },
    {
      "cell_type": "markdown",
      "metadata": {
        "id": "3bvtYrbOT7S2"
      },
      "source": [
        "Random forests are an example of an *ensemble learner* built on decision trees.\n",
        "For this reason we'll start by discussing decision trees themselves.\n",
        "\n",
        "Decision trees are extremely intuitive ways to classify or label objects: you simply ask a series of questions designed to zero-in on the classification.\n",
        "For example, if you wanted to build a decision tree to classify an animal you come across while on a hike, you might construct the one shown here:"
      ]
    },
    {
      "cell_type": "markdown",
      "metadata": {
        "id": "90IB6bCeUVvc"
      },
      "source": [
        "![dt.png](data:image/png;base64,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)"
      ]
    },
    {
      "cell_type": "markdown",
      "metadata": {
        "id": "TvtG3SwmUt6L"
      },
      "source": [
        "The binary splitting makes this extremely efficient: in a well-constructed tree, each question will cut the number of options by approximately half, very quickly narrowing the options even among a large number of classes.\n",
        "The trick, of course, comes in deciding which questions to ask at each step.\n",
        "In machine learning implementations of decision trees, the questions generally take the form of axis-aligned splits in the data: that is, each node in the tree splits the data into two groups using a cutoff value within one of the features.\n"
      ]
    },
    {
      "cell_type": "markdown",
      "metadata": {
        "id": "Y-PGl1jUqdkR"
      },
      "source": [
        "#Gini index vs Entropy Information Gain\n",
        "\n",
        "Decision Trees can exploit two different function to measure the impurity of a node: Gini Index and Entropy Information Gain. The two are reported below as a remainder:\n",
        "$$Gini = 1 - \\sum_{i=1}^{n}p^2(c_i)$$\n",
        "$$Entropy = \\sum_{i=1}^{n}-p(c_i)log_2(p(c_i))$$"
      ]
    },
    {
      "cell_type": "markdown",
      "metadata": {
        "id": "hScvSxvRcRpr"
      },
      "source": [
        "#Scikit-learn implementation of decision trees\n",
        "Scikit-learn allows you to create decision trees in a simple and intuitive way. In particular, it allows to use both Gini and Entropy as impurity measurements, and to select two different splitting modes: best and random.\n",
        "- Using best, the model takes the feature with the highest importance\n",
        "- Using random, the model takes the feature randomly but with the same distribution."
      ]
    },
    {
      "cell_type": "code",
      "metadata": {
        "id": "G_LRCCTrU9qp",
        "colab": {
          "base_uri": "https://localhost:8080/"
        },
        "outputId": "656ca975-1bf1-47d6-f8e9-2d2d5114f4c1"
      },
      "source": [
        "from sklearn.tree import DecisionTreeClassifier\n",
        "\n",
        "#### HERE YOUR PARAMETERS ####\n",
        "criterion =  \n",
        "splitter  = \n",
        "tree = DecisionTreeClassifier(criterion=criterion, splitter=splitter, random_state=1)\n",
        "tree.fit(x_train, y_train)\n",
        "print('Accuracy score: {}'.format(tree.score(x_valid, y_valid)))"
      ],
      "execution_count": null,
      "outputs": [
        {
          "output_type": "stream",
          "text": [
            "Accuracy score: 0.721875\n"
          ],
          "name": "stdout"
        }
      ]
    },
    {
      "cell_type": "code",
      "metadata": {
        "colab": {
          "base_uri": "https://localhost:8080/"
        },
        "id": "11175ZGgp80r",
        "outputId": "c3ddd0c9-f926-4039-9c9c-693d94f17282"
      },
      "source": [
        "#Test here your best model on the test set\n",
        "print('Accuracy score: {}'.format(tree.score(x_test, y_test)))"
      ],
      "execution_count": null,
      "outputs": [
        {
          "output_type": "stream",
          "text": [
            "Accuracy score: 0.71\n"
          ],
          "name": "stdout"
        }
      ]
    },
    {
      "cell_type": "markdown",
      "metadata": {
        "id": "DikQUyhgTH7C"
      },
      "source": [
        "### Decision trees and over-fitting\n",
        "\n",
        "Over-fitting is a general property of decision trees: it is very easy to go too deep in the tree, and thus to fit details of the particular data rather than the overall properties of the distributions they are drawn from.\n"
      ]
    },
    {
      "cell_type": "code",
      "metadata": {
        "colab": {
          "base_uri": "https://localhost:8080/"
        },
        "id": "0yR3Ow6s2thy",
        "outputId": "9f18dba8-6f1a-41c8-e2fc-dc02caabeddc"
      },
      "source": [
        "print('Accuracy score on training set: {}'.format(tree.score(x_train, y_train)))"
      ],
      "execution_count": null,
      "outputs": [
        {
          "output_type": "stream",
          "text": [
            "Accuracy score on training set: 1.0\n"
          ],
          "name": "stdout"
        }
      ]
    },
    {
      "cell_type": "markdown",
      "metadata": {
        "id": "hhrSZyn5TH7F"
      },
      "source": [
        "## Ensembles of Estimators: Random Forests\n",
        "\n",
        "This notion—that multiple overfitting estimators can be combined to reduce the effect of this overfitting—is what underlies an ensemble method called *bagging*.\n",
        "Bagging makes use of an ensemble (a grab bag, perhaps) of parallel estimators, each of which over-fits the data, and averages the results to find a better classification.\n",
        "An ensemble of randomized decision trees is known as a *random forest*."
      ]
    },
    {
      "cell_type": "markdown",
      "metadata": {
        "id": "Qv3SGrDTdT0r"
      },
      "source": [
        "## Scikit-learn Random forest"
      ]
    },
    {
      "cell_type": "code",
      "metadata": {
        "colab": {
          "base_uri": "https://localhost:8080/"
        },
        "id": "yVae8HDcdStk",
        "outputId": "cbb70907-be85-4d5f-c3d9-57dfb8180cc1"
      },
      "source": [
        "from sklearn.ensemble import RandomForestClassifier\n",
        "#### HERE YOUR PARAMETERS ####\n",
        "criterion = \n",
        "n_estimators = \n",
        "random_forest = RandomForestClassifier(n_estimators=n_estimators, random_state=1, criterion=criterion)\n",
        "random_forest.fit(x_train, y_train)\n",
        "print('Accuracy score: {}'.format(random_forest.score(x_valid, y_valid)))"
      ],
      "execution_count": null,
      "outputs": [
        {
          "output_type": "stream",
          "text": [
            "Accuracy score: 0.9\n"
          ],
          "name": "stdout"
        }
      ]
    },
    {
      "cell_type": "code",
      "metadata": {
        "colab": {
          "base_uri": "https://localhost:8080/"
        },
        "id": "rbzqlz38GP9U",
        "outputId": "4f06f51e-dca6-4eaa-90d0-ca9dcc78939e"
      },
      "source": [
        "#Test here your best model on the test set\n",
        "print('Accuracy score: {}'.format(random_forest.score(x_test, y_test)))"
      ],
      "execution_count": null,
      "outputs": [
        {
          "output_type": "stream",
          "text": [
            "Accuracy score: 0.9\n"
          ],
          "name": "stdout"
        }
      ]
    },
    {
      "cell_type": "markdown",
      "metadata": {
        "id": "rsIi1Q1AS63r"
      },
      "source": [
        "# k-Fold Cross Validation\n",
        "\n",
        "Here you can see a simple diagram to summarize the overall procedure:\n",
        "\n",
        "![alt text](https://i.postimg.cc/8CVKFb35/k-fold.png)\n"
      ]
    },
    {
      "cell_type": "code",
      "metadata": {
        "id": "Ps7HDAAGVLO5"
      },
      "source": [
        "########################################\n",
        "# k-Fold Cross Validation\n",
        "########################################\n",
        "\n",
        "def k_fold_cv(x, y, k=5, seed=None):\n",
        "    '''\n",
        "    input x: input samples ndarray of shape (num_samples, feat_dim)\n",
        "    input y: labels ndarray of shape (num_samples)\n",
        "    input k: number of folds\n",
        "    input seed: seed for random shuffle\n",
        "    '''\n",
        "    idx_samples = np.arange(len(x), dtype=np.int32)\n",
        "    if seed is not None:\n",
        "        np.random.seed(seed)\n",
        "    \n",
        "    ### HERE YOUR CODE ###\n",
        "\n",
        "    # Shuffle the samples indices\n",
        "\n",
        "    # Split the idx samples into k-folds\n",
        "    idx_sample_folds = \n",
        "    ### END CODE ###\n",
        "\n",
        "    x_train_folds, y_train_folds = [], []\n",
        "    x_valid_folds, y_valid_folds = [], []\n",
        "    for idx_k in range(k):\n",
        "        idx_train, idx_valid = [], []\n",
        "        for idx_fold in range(k):\n",
        "            fold = idx_sample_folds[idx_fold]\n",
        "            if idx_k == idx_fold:\n",
        "                idx_valid += [fold]\n",
        "            else:\n",
        "                idx_train += [fold]\n",
        "\n",
        "    ### HERE YOUR CODE ###\n",
        "        # Concatenate folds\n",
        "        x_train_folds += \n",
        "        y_train_folds += \n",
        "        x_valid_folds += \n",
        "        y_valid_folds += \n",
        "\n",
        "    ### END CODE ###\n",
        "\n",
        "    return x_train_folds, y_train_folds, x_valid_folds, y_valid_folds\n",
        "\n",
        "# Split train set into k folds, k-1 for train and 1 for validation\n",
        "x_train_folds, y_train_folds, x_valid_folds, y_valid_folds = k_fold_cv(x_train, y_train, k=5, seed=1234)"
      ],
      "execution_count": null,
      "outputs": []
    },
    {
      "cell_type": "code",
      "metadata": {
        "id": "oSeQ5YqxYXT8",
        "colab": {
          "base_uri": "https://localhost:8080/",
          "height": 136
        },
        "outputId": "82969668-2c24-4cf6-9cc1-945835b66fac"
      },
      "source": [
        "# Summary of the k-Fold Cross Validation\n",
        "print('################################################################################')\n",
        "print('# SUMMARY k-FOLD CROSS VALIDATION')\n",
        "print('################################################################################\\n')\n",
        "print('k :', len(x_train_folds))\n",
        "print('Train size (= (k-1) * fold_size):', len(x_train_folds[0]))\n",
        "print('Validatio size (= fold size):', len(x_valid_folds[0]))\n"
      ],
      "execution_count": null,
      "outputs": [
        {
          "output_type": "stream",
          "text": [
            "################################################################################\n",
            "# SUMMARY k-FOLD CROSS VALIDATION\n",
            "################################################################################\n",
            "\n",
            "k : 5\n",
            "Train size (= (k-1) * fold_size): 1280\n",
            "Validatio size (= fold size): 320\n"
          ],
          "name": "stdout"
        }
      ]
    },
    {
      "cell_type": "markdown",
      "metadata": {
        "id": "_XXeeWj1ry3W"
      },
      "source": [
        "# k-Nearest Neighbors\n",
        "Given a training data \n",
        "\n",
        "$$\\mathcal{T} = \\{ (x_1, y_1), \\dots, (x_N, y_N) \\}$$\n",
        "\n",
        "the algorithm makes predictions as follows:\n",
        "\n",
        "> * **Input**: training data $\\mathcal{T}$, $1 \\leq k \\in \\mathbb{N}$ and a new data point $x$\n",
        "* **Output**: predict class for $x$\n",
        " * $\\mathcal{D} \\leftarrow \\{ x_1, \\dots, x_N \\}$\n",
        " * $\\mathcal{N(x)} \\leftarrow $ $k$ closest points to $x$ in $\\mathcal{D}$, under a distance funcion $d(\\cdot, \\cdot)$\n",
        " * return the most frequent class associated with points in $\\mathcal{N}(x)$ \n",
        "\n",
        "\n",
        "\n",
        "## Distances\n",
        "In order to implement $k$-NN we have to specify a distance function. Here the most commons ones: \n",
        "\n",
        "* **L2 distance**\n",
        "$$dist_{L2}\\left( x^{(0)}, x^{(1)} \\right) = \\sqrt{\\sum_i \\left(x^{(0)}_i - x^{(1)}_i\\right) ^ 2}$$\n",
        "\n",
        "* **L1 distance**\n",
        "$$dist_{L1}\\left( x^{(0)}, x^{(1)} \\right) = \\sum_i \\left|x^{(0)}_i - x^{(1)}_i \\right|$$"
      ]
    },
    {
      "cell_type": "code",
      "metadata": {
        "id": "0gGl2ZJ6Uuai"
      },
      "source": [
        "########################################\n",
        "# Distance functions\n",
        "########################################\n",
        "\n",
        "# L2 distance\n",
        "def dist_l2(x1, x2):\n",
        "\n",
        "    ### HERE YOUR CODE ###\n",
        "    d_12 = \n",
        "    ### END CODE ###\n",
        "    return d_12\n",
        "\n",
        "# L1 distance\n",
        "def dist_l1(x1, x2):\n",
        "\n",
        "    ### HERE YOUR CODE ###\n",
        "    d_12 = \n",
        "    ### END CODE ###\n",
        "    return d_12"
      ],
      "execution_count": null,
      "outputs": []
    },
    {
      "cell_type": "markdown",
      "metadata": {
        "id": "pYUKH1u9ycFD"
      },
      "source": [
        "***Hint***: to solve the exercise use the functions \n",
        "* [np.argsort(...)](https://docs.scipy.org/doc/numpy/reference/generated/numpy.argsort.html)\n",
        "* [stats.mode(...)](https://docs.scipy.org/doc/scipy/reference/generated/scipy.stats.mode.html)"
      ]
    },
    {
      "cell_type": "code",
      "metadata": {
        "id": "IuxPNsg6VL6P"
      },
      "source": [
        "########################################\n",
        "# K-NN Model class\n",
        "########################################\n",
        "\n",
        "class KNNModel(object):\n",
        "    def __init__(self, x, y, k=1, num_classes=10):\n",
        "        self.k = k\n",
        "        self.x = x\n",
        "        self.y = y\n",
        "        self.num_classes = num_classes\n",
        "\n",
        "    def predict(self, x, dist_func, get_freq=False):\n",
        "        def get_k_closest_points(x_i, x_list):\n",
        "\n",
        "            ### HERE YOU CODE ###\n",
        "            d_list = \n",
        "            idx_k = \n",
        "            ### END CODE ###\n",
        "\n",
        "            return idx_k\n",
        "\n",
        "        # Compute the distance between x and self.x using dist_func\n",
        "        dist_matrix_k = np.zeros([x.shape[0], self.k], dtype=np.int32)\n",
        "        for i, x_i in enumerate(x):\n",
        "            dist_matrix_k[i, :] = get_k_closest_points(x_i, self.x)\n",
        "\n",
        "        # Voting\n",
        "        y_pred_k = self.y[dist_matrix_k]\n",
        "\n",
        "        # Get the most frequent class and also all the voting frequency\n",
        "        if get_freq:\n",
        "            y_pred_freq = np.zeros([len(y_pred_k), self.num_classes], dtype=np.float32)\n",
        "            for cl in range(self.num_classes):\n",
        "                idx = np.where(y_pred_k == cl)\n",
        "                idx_row = np.array(list(set(idx[0].tolist())), dtype=np.int32)\n",
        "                y_pred_freq[idx_row, cl] = (y_pred_k[idx_row] == cl).sum(axis=-1)\n",
        "            y_pred_freq = y_pred_freq / self.k\n",
        "            return y_pred_freq.argmax(axis=-1), y_pred_freq\n",
        "        else:\n",
        "\n",
        "            ### HERE YOUR CODE ###\n",
        "            mode = \n",
        "            ### END CODE ###\n",
        "\n",
        "            return mode\n"
      ],
      "execution_count": null,
      "outputs": []
    },
    {
      "cell_type": "markdown",
      "metadata": {
        "id": "U896j9sPsrVK"
      },
      "source": [
        "# Find the best parameter k for the k-NN using 5-Fold Cross Validation\n",
        "We are going to select the best parameter $k$ for the $k$-NN as follows:\n",
        "\n",
        "$$\\hat{k} = argmax_k\\{ accuracy_k \\}$$\n",
        "\n",
        "where $accuracy_k$ is the validation accuracy given by the k-NN from the 5-Fold Cross Validation."
      ]
    },
    {
      "cell_type": "code",
      "metadata": {
        "id": "ekuuzLButbdk"
      },
      "source": [
        "def get_accuracy(y_true, y_pred):\n",
        "    return (y_true == y_pred).mean()"
      ],
      "execution_count": null,
      "outputs": []
    },
    {
      "cell_type": "markdown",
      "metadata": {
        "id": "8kceXFgC4osh"
      },
      "source": [
        "This cell can take some minutes to run..."
      ]
    },
    {
      "cell_type": "code",
      "metadata": {
        "id": "irkBSW4bsqF-",
        "colab": {
          "base_uri": "https://localhost:8080/",
          "height": 558,
          "referenced_widgets": [
            "b24cece7814542dfb88ff3449d802298",
            "4debb6f74d154642bcffa10413265b26",
            "66df5d21df3d450298771d648981d671",
            "3dc2640be47341c78e44393e19fc3c5f",
            "1cbaad267e8249f083c7f37471d8c420",
            "77e395b491be44c7939221b1f5c7fcd0",
            "6e752c52a41948fe8863c11cd2c67c31",
            "ce2860d13b2140868078f7eb503fadd9",
            "d7a956b82a6c47a6bce49feece7a7f1c",
            "90fe56940aea45ee908fd023ebd8a2b0",
            "f4c72f00f1404b8fbd542385938cf576",
            "097ef1ec229c4888bef858f56028ea7b",
            "487790190a934eb592fc3f59908242ef",
            "ac01216c58e349d2869d849f4f1d1e42",
            "d1324e26b8d3466fb030e169368691f5",
            "d2ed589e984e442b86bd4714baceef32",
            "d2bc8983d6134032beb60b6563577623",
            "7fdc13188e3d4bbea561e015612832a1",
            "24a05b23e74e46ceb75bed9f14697cd8",
            "7903f71ffd314c4e8bfa27ea6a8c8ce1",
            "3620738ccfbe46aaaad6ff6b1f1705b7",
            "6a2867c5d3a647a2b592da1366871fd0",
            "d500a49cfa8f49c0a6acd19e0db9ba41",
            "0ee728bfccf74aa5a80c8a3a4f1521b2",
            "07b6f04dfa7b478e83a76cf6e08a0f83",
            "f121e985471e47f1bdb253e6980a2790",
            "eeca15956873452e83253e48af56b966",
            "242b68c9cbea4c9fbc4b373b07f65804",
            "b2511a64f63244a99e9963db82cf34d2",
            "0866d9e30a8b441e9930fdb97d0681c4",
            "45f07c665339457091654a204461c6c2",
            "dca2281968e843509c3f49c06e4fe9ce",
            "0de3eaa3c2944da5b06aabca70877aed",
            "457ebac61b1c4736a99b6a7d3ee820c6",
            "6dd547ce93a248ff951e437a0ee2b8a5",
            "ecc80f00ede141e1af249c14d876bea7",
            "8c303dcf30074ef99daf9d9040296c11",
            "c81ece11dd7240be8da6d81aaee15cba",
            "b1d7415e881b4b079b9fc03931895454",
            "ec0721bd99fd4c67b8549d46f12ed292",
            "5a05f69575184db99ee8a3e7bd495d8c",
            "4901cb1b22734f71980fa0623218afa6",
            "06be1ce0cd2f4cfba9fad6952910eb26",
            "e996d88714ed4c97b8b0cfa2e2f35252",
            "5dcc58e58fa84ef7a2ccb53a8d3d7e10",
            "3eea1166f834490a89aba5ff98164b7b",
            "32eb723e72404c61bc19aec8bafac0b1",
            "00881faf53be40cdbb2a353612c7bcaf",
            "8a18fdd75443417b9b01708c62444eac",
            "7bda69626adc4146b98b29141d55b91c",
            "f0736a06bea74842bf1cc85300bbc0db",
            "d6491c877eae4b65b32f577df6493683",
            "aab6cee92520447fb47bb4b01db5b850",
            "f1b044677e774432bf488a4d443ddb82",
            "3111bc12c12b4b81bbe6836bfc5c4f56",
            "2bf1f902aec14152b3ba5d579c1a4674",
            "0b6969a006c748ec8354a16de2ed7700",
            "84e30c3255024937bf940be45e596965",
            "8cec3f45e2a64bc6b2498c4bb1fae159",
            "c6a83f9c575847e485b6efea71f5424e",
            "2841d259e0c94c80b3779a1ec19f89cc",
            "3a978973aa39426697f6525c0d5ab8d7",
            "d0bbee392ae44dc4b8cacf3baafbd779",
            "ae6d5a192ef5458184575d11f50728e3",
            "f73c1da526f44968b8fb9b8b734478ee",
            "32903c1bfe6e4ea89027081f858f017d",
            "18b22e571b6446519568376a2d983bfc",
            "078b3e8e0e6d400980df81ee57685302",
            "79bb0e8fed1c4a4182b2bd441edf7077",
            "30de8ff7e6694288aad872867c850fae",
            "406eed4bf9d04ef590b26255944c5bf9",
            "ef61b2a18122404d866e2888c82ec3c7",
            "b64168f3983942cf9eda3fb6985cca36",
            "c0693e2100004a3aaf95b8b8613b353a",
            "2f1b0d0e0f694b6d8beaa3337b6643ec",
            "fa004c0325834c6b8fbe0f43952ad5fd",
            "dc81dd6db98542dda7ea8ed8c2ed9a7d",
            "f172943ea37545dd8bf01549c0cd2076",
            "17b87e489eaf45079e3a36f016c0f5f3",
            "bceff6f14bb8463bbedbfda29d14e7c9"
          ]
        },
        "outputId": "73385002-3ce3-4e99-afc3-f80dda703c58"
      },
      "source": [
        "k_list = np.arange(1, 11, dtype=np.int32)\n",
        "\n",
        "# Loop over k values\n",
        "acc, acc_std = {}, {}\n",
        "for k in k_list:\n",
        "\n",
        "    # Loop over 5-Folds\n",
        "    acc_folds = []\n",
        "    for x_train, y_train, x_valid, y_valid in tqdm_notebook(zip(x_train_folds, \n",
        "                                                                y_train_folds, \n",
        "                                                                x_valid_folds, \n",
        "                                                                y_valid_folds), \n",
        "                                                            total=5, \n",
        "                                                            desc=f'k = {k}'):\n",
        "\n",
        "        # Create the k-nn model\n",
        "        knn = KNNModel(x_train, y_train, k=k)\n",
        "\n",
        "        ### HERE YOUR CODE ###\n",
        "        # Predict\n",
        "        y_valid_pred = \n",
        "        ### END CODE ###\n",
        "\n",
        "        # Evaluate model\n",
        "        acc_fold = get_accuracy(y_valid, y_valid_pred)\n",
        "        acc_folds += [acc_fold]\n",
        "    \n",
        "    # Average accuracies over folds\n",
        "    acc[k] = np.mean(acc_folds)\n",
        "    acc_std[k] = np.std(acc_folds)\n"
      ],
      "execution_count": null,
      "outputs": [
        {
          "output_type": "stream",
          "text": [
            "/usr/local/lib/python3.6/dist-packages/ipykernel_launcher.py:14: TqdmDeprecationWarning: This function will be removed in tqdm==5.0.0\n",
            "Please use `tqdm.notebook.tqdm` instead of `tqdm.tqdm_notebook`\n",
            "  \n"
          ],
          "name": "stderr"
        },
        {
          "output_type": "display_data",
          "data": {
            "application/vnd.jupyter.widget-view+json": {
              "model_id": "b24cece7814542dfb88ff3449d802298",
              "version_minor": 0,
              "version_major": 2
            },
            "text/plain": [
              "HBox(children=(IntProgress(value=0, description='k = 1', max=5, style=ProgressStyle(description_width='initial…"
            ]
          },
          "metadata": {
            "tags": []
          }
        },
        {
          "output_type": "stream",
          "text": [
            "\n"
          ],
          "name": "stdout"
        },
        {
          "output_type": "display_data",
          "data": {
            "application/vnd.jupyter.widget-view+json": {
              "model_id": "d7a956b82a6c47a6bce49feece7a7f1c",
              "version_minor": 0,
              "version_major": 2
            },
            "text/plain": [
              "HBox(children=(IntProgress(value=0, description='k = 2', max=5, style=ProgressStyle(description_width='initial…"
            ]
          },
          "metadata": {
            "tags": []
          }
        },
        {
          "output_type": "stream",
          "text": [
            "\n"
          ],
          "name": "stdout"
        },
        {
          "output_type": "display_data",
          "data": {
            "application/vnd.jupyter.widget-view+json": {
              "model_id": "d2bc8983d6134032beb60b6563577623",
              "version_minor": 0,
              "version_major": 2
            },
            "text/plain": [
              "HBox(children=(IntProgress(value=0, description='k = 3', max=5, style=ProgressStyle(description_width='initial…"
            ]
          },
          "metadata": {
            "tags": []
          }
        },
        {
          "output_type": "stream",
          "text": [
            "\n"
          ],
          "name": "stdout"
        },
        {
          "output_type": "display_data",
          "data": {
            "application/vnd.jupyter.widget-view+json": {
              "model_id": "07b6f04dfa7b478e83a76cf6e08a0f83",
              "version_minor": 0,
              "version_major": 2
            },
            "text/plain": [
              "HBox(children=(IntProgress(value=0, description='k = 4', max=5, style=ProgressStyle(description_width='initial…"
            ]
          },
          "metadata": {
            "tags": []
          }
        },
        {
          "output_type": "stream",
          "text": [
            "\n"
          ],
          "name": "stdout"
        },
        {
          "output_type": "display_data",
          "data": {
            "application/vnd.jupyter.widget-view+json": {
              "model_id": "0de3eaa3c2944da5b06aabca70877aed",
              "version_minor": 0,
              "version_major": 2
            },
            "text/plain": [
              "HBox(children=(IntProgress(value=0, description='k = 5', max=5, style=ProgressStyle(description_width='initial…"
            ]
          },
          "metadata": {
            "tags": []
          }
        },
        {
          "output_type": "stream",
          "text": [
            "\n"
          ],
          "name": "stdout"
        },
        {
          "output_type": "display_data",
          "data": {
            "application/vnd.jupyter.widget-view+json": {
              "model_id": "5a05f69575184db99ee8a3e7bd495d8c",
              "version_minor": 0,
              "version_major": 2
            },
            "text/plain": [
              "HBox(children=(IntProgress(value=0, description='k = 6', max=5, style=ProgressStyle(description_width='initial…"
            ]
          },
          "metadata": {
            "tags": []
          }
        },
        {
          "output_type": "stream",
          "text": [
            "\n"
          ],
          "name": "stdout"
        },
        {
          "output_type": "display_data",
          "data": {
            "application/vnd.jupyter.widget-view+json": {
              "model_id": "8a18fdd75443417b9b01708c62444eac",
              "version_minor": 0,
              "version_major": 2
            },
            "text/plain": [
              "HBox(children=(IntProgress(value=0, description='k = 7', max=5, style=ProgressStyle(description_width='initial…"
            ]
          },
          "metadata": {
            "tags": []
          }
        },
        {
          "output_type": "stream",
          "text": [
            "\n"
          ],
          "name": "stdout"
        },
        {
          "output_type": "display_data",
          "data": {
            "application/vnd.jupyter.widget-view+json": {
              "model_id": "0b6969a006c748ec8354a16de2ed7700",
              "version_minor": 0,
              "version_major": 2
            },
            "text/plain": [
              "HBox(children=(IntProgress(value=0, description='k = 8', max=5, style=ProgressStyle(description_width='initial…"
            ]
          },
          "metadata": {
            "tags": []
          }
        },
        {
          "output_type": "stream",
          "text": [
            "\n"
          ],
          "name": "stdout"
        },
        {
          "output_type": "display_data",
          "data": {
            "application/vnd.jupyter.widget-view+json": {
              "model_id": "f73c1da526f44968b8fb9b8b734478ee",
              "version_minor": 0,
              "version_major": 2
            },
            "text/plain": [
              "HBox(children=(IntProgress(value=0, description='k = 9', max=5, style=ProgressStyle(description_width='initial…"
            ]
          },
          "metadata": {
            "tags": []
          }
        },
        {
          "output_type": "stream",
          "text": [
            "\n"
          ],
          "name": "stdout"
        },
        {
          "output_type": "display_data",
          "data": {
            "application/vnd.jupyter.widget-view+json": {
              "model_id": "b64168f3983942cf9eda3fb6985cca36",
              "version_minor": 0,
              "version_major": 2
            },
            "text/plain": [
              "HBox(children=(IntProgress(value=0, description='k = 10', max=5, style=ProgressStyle(description_width='initia…"
            ]
          },
          "metadata": {
            "tags": []
          }
        },
        {
          "output_type": "stream",
          "text": [
            "\n"
          ],
          "name": "stdout"
        }
      ]
    },
    {
      "cell_type": "code",
      "metadata": {
        "id": "mRpkBPaA27rf",
        "colab": {
          "base_uri": "https://localhost:8080/",
          "height": 403
        },
        "outputId": "92b55ee7-82f8-4a24-a867-bfb635c03aad"
      },
      "source": [
        "# Plot accuracy over parameter k\n",
        "plt.figure(figsize=(20, 6))\n",
        "plt.title('Accuracy over parameter k of k-NN', fontweight='bold')\n",
        "plt.bar(list(acc.keys()), list(acc.values()))\n",
        "for k in acc.keys():\n",
        "    plt.plot([k, k], [acc[k] - acc_std[k], acc[k] + acc_std[k]], c='k', lw=8, alpha=0.8)\n",
        "plt.ylim(0.8, 0.95)\n",
        "plt.xlabel('k', fontweight='bold')\n",
        "plt.ylabel('Validation Accuracy', fontweight='bold')\n",
        "yticks, _ = plt.yticks()\n",
        "plt.yticks(yticks, [f'{int(100 * yy)}%' for yy in yticks])\n",
        "plt.xticks(k_list)\n",
        "plt.show()"
      ],
      "execution_count": null,
      "outputs": [
        {
          "output_type": "display_data",
          "data": {
            "image/png": "[encoded data removed]",
            "text/plain": [
              "<Figure size 1440x432 with 1 Axes>"
            ]
          },
          "metadata": {
            "tags": [],
            "needs_background": "light"
          }
        }
      ]
    },
    {
      "cell_type": "code",
      "metadata": {
        "id": "xEy15zRx279F",
        "colab": {
          "base_uri": "https://localhost:8080/",
          "height": 34
        },
        "outputId": "9592ae84-740b-475a-b4ff-c1030fc98438"
      },
      "source": [
        "# Best k\n",
        "idx_k_best = np.array(list(acc.values())).argmax()\n",
        "k_best = list(acc.keys())[idx_k_best]\n",
        "print(f'Best k: {k_best}')\n",
        "\n",
        "# Best model\n",
        "knn = KNNModel(x_train, y_train, k=k_best)"
      ],
      "execution_count": null,
      "outputs": [
        {
          "output_type": "stream",
          "text": [
            "Best k: 1\n"
          ],
          "name": "stdout"
        }
      ]
    },
    {
      "cell_type": "code",
      "metadata": {
        "id": "cGEhi9X68il7",
        "colab": {
          "base_uri": "https://localhost:8080/",
          "height": 51
        },
        "outputId": "6e4c8c6c-b74b-4d55-81ab-bfebd32ff14d"
      },
      "source": [
        "# Predictions with best model\n",
        "pred_valid = knn.predict(x_valid, dist_l2)\n",
        "pred_test, pred_freq_test = knn.predict(x_test, dist_l2, get_freq=True)\n",
        "\n",
        "# Evaluation\n",
        "acc_valid = get_accuracy(y_valid, pred_valid)\n",
        "acc_test = get_accuracy(y_test, pred_test)\n",
        "print(f'Validation accuracy: {100 * acc_valid:.2f}%')\n",
        "print(f'Test accuracy: {100 * acc_test:.2f}%')"
      ],
      "execution_count": null,
      "outputs": [
        {
          "output_type": "stream",
          "text": [
            "Validation accuracy: 89.38%\n",
            "Test accuracy: 88.25%\n"
          ],
          "name": "stdout"
        }
      ]
    },
    {
      "cell_type": "code",
      "metadata": {
        "id": "RJLCV9VkhvD_",
        "colab": {
          "base_uri": "https://localhost:8080/",
          "height": 960
        },
        "outputId": "337b1a81-5458-496c-844a-362a9e982a6a"
      },
      "source": [
        "def plot_predictions(x, y, pred_freq, num_col=5, show_max=25, seed=None):\n",
        "    if len(x) > show_max:\n",
        "        if seed is not None:\n",
        "            np.random.seed(seed)\n",
        "        idx_random = np.random.randint(len(x), size=show_max)\n",
        "        x = x[idx_random]\n",
        "        y = y[idx_random]\n",
        "        pred_freq = pred_freq[idx_random]\n",
        "    num_rows = int(np.ceil(len(x) / num_col))\n",
        "    fig, axs = plt.subplots(num_rows, num_col, figsize=(25, num_rows * 3))\n",
        "    fig.suptitle('Test Images', fontweight='bold', fontsize=28)\n",
        "\n",
        "    for idx_sample in range(len(x)):\n",
        "        idx_row = idx_sample // num_col\n",
        "        idx_col = idx_sample % num_col\n",
        "        ax = axs[idx_row, idx_col]\n",
        "        ax.set_title(f'Label: {y[idx_sample]}', fontweight='bold')\n",
        "        ax.imshow(x[idx_sample].reshape(-1, 28), \n",
        "                    cmap='gray')\n",
        "        ax.set_aspect(1.)\n",
        "        ax.axis('off')\n",
        "        divider = make_axes_locatable(ax)\n",
        "        axHisty = divider.append_axes(\"right\", 1.5, pad=0.4, sharey=ax)\n",
        "        axHisty.barh(np.linspace(0, 27, 10), \n",
        "                        pred_freq[idx_sample], height=2.0, color='r')\n",
        "        axHisty.set_xticks(np.linspace(0, 1, 5))\n",
        "        axHisty.set_title(f'Prediction: {pred_freq[idx_sample].argmax()}', \n",
        "                          fontweight='bold')\n",
        "        axHisty.set_xticklabels([f'{int(xx * 100)}%' for xx in np.linspace(0, 1, 5)], fontweight='bold')\n",
        "        axHisty.set_ylim(30, -2)\n",
        "        axHisty.set_yticks(np.linspace(0.5, 27.5, 10))\n",
        "        axHisty.set_yticklabels(np.arange(10), fontweight='bold')\n",
        "    plt.show()\n",
        " \n",
        "# Show test results\n",
        "axs = plot_predictions(x_test, y_test, pred_freq_test, show_max=25, seed=None)"
      ],
      "execution_count": null,
      "outputs": [
        {
          "output_type": "display_data",
          "data": {
            "image/png": "[encoded data removed]",
            "text/plain": [
              "<Figure size 1800x1080 with 50 Axes>"
            ]
          },
          "metadata": {
            "tags": [],
            "needs_background": "light"
          }
        }
      ]
    },
    {
      "cell_type": "markdown",
      "metadata": {
        "id": "fG4jzUOIAbYK"
      },
      "source": [
        "If you change the best parameter $\\hat{k}$ for the $k$-NN you can see different behaviour both in terms of accuracy and also in terms of frequency in voting (red lines in the plot above)."
      ]
    }
  ]
}